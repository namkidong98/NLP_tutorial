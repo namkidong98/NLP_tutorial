{
  "nbformat": 4,
  "nbformat_minor": 0,
  "metadata": {
    "colab": {
      "provenance": [],
      "gpuType": "T4"
    },
    "kernelspec": {
      "name": "python3",
      "display_name": "Python 3"
    },
    "language_info": {
      "name": "python"
    },
    "accelerator": "GPU"
  },
  "cells": [
    {
      "cell_type": "markdown",
      "source": [
        "# 스팸메일 데이터셋 로드 & 전처리"
      ],
      "metadata": {
        "id": "QhJ2XXsh1Y-G"
      }
    },
    {
      "cell_type": "code",
      "source": [
        "import urllib.request\n",
        "import pandas as pd\n",
        "import numpy as np\n",
        "import torch"
      ],
      "metadata": {
        "id": "pseCmdDhsgT-"
      },
      "execution_count": 1,
      "outputs": []
    },
    {
      "cell_type": "code",
      "source": [
        "# 스팸 메일 분류를 위한 데이터 다운로드\n",
        "urllib.request.urlretrieve(\"https://raw.githubusercontent.com/mohitgupta-omg/Kaggle-SMS-Spam-Collection-Dataset-/master/spam.csv\", filename=\"spam.csv\")\n",
        "data = pd.read_csv('spam.csv', encoding='latin-1')\n",
        "data[:5]"
      ],
      "metadata": {
        "colab": {
          "base_uri": "https://localhost:8080/",
          "height": 206
        },
        "id": "yw0_kZHcsfyh",
        "outputId": "fa03423e-1c69-4301-e131-f6f47080f058"
      },
      "execution_count": 2,
      "outputs": [
        {
          "output_type": "execute_result",
          "data": {
            "text/plain": [
              "     v1                                                 v2 Unnamed: 2  \\\n",
              "0   ham  Go until jurong point, crazy.. Available only ...        NaN   \n",
              "1   ham                      Ok lar... Joking wif u oni...        NaN   \n",
              "2  spam  Free entry in 2 a wkly comp to win FA Cup fina...        NaN   \n",
              "3   ham  U dun say so early hor... U c already then say...        NaN   \n",
              "4   ham  Nah I don't think he goes to usf, he lives aro...        NaN   \n",
              "\n",
              "  Unnamed: 3 Unnamed: 4  \n",
              "0        NaN        NaN  \n",
              "1        NaN        NaN  \n",
              "2        NaN        NaN  \n",
              "3        NaN        NaN  \n",
              "4        NaN        NaN  "
            ],
            "text/html": [
              "\n",
              "  <div id=\"df-2da7aac4-11fb-402e-b4d1-f32e1a24f789\" class=\"colab-df-container\">\n",
              "    <div>\n",
              "<style scoped>\n",
              "    .dataframe tbody tr th:only-of-type {\n",
              "        vertical-align: middle;\n",
              "    }\n",
              "\n",
              "    .dataframe tbody tr th {\n",
              "        vertical-align: top;\n",
              "    }\n",
              "\n",
              "    .dataframe thead th {\n",
              "        text-align: right;\n",
              "    }\n",
              "</style>\n",
              "<table border=\"1\" class=\"dataframe\">\n",
              "  <thead>\n",
              "    <tr style=\"text-align: right;\">\n",
              "      <th></th>\n",
              "      <th>v1</th>\n",
              "      <th>v2</th>\n",
              "      <th>Unnamed: 2</th>\n",
              "      <th>Unnamed: 3</th>\n",
              "      <th>Unnamed: 4</th>\n",
              "    </tr>\n",
              "  </thead>\n",
              "  <tbody>\n",
              "    <tr>\n",
              "      <th>0</th>\n",
              "      <td>ham</td>\n",
              "      <td>Go until jurong point, crazy.. Available only ...</td>\n",
              "      <td>NaN</td>\n",
              "      <td>NaN</td>\n",
              "      <td>NaN</td>\n",
              "    </tr>\n",
              "    <tr>\n",
              "      <th>1</th>\n",
              "      <td>ham</td>\n",
              "      <td>Ok lar... Joking wif u oni...</td>\n",
              "      <td>NaN</td>\n",
              "      <td>NaN</td>\n",
              "      <td>NaN</td>\n",
              "    </tr>\n",
              "    <tr>\n",
              "      <th>2</th>\n",
              "      <td>spam</td>\n",
              "      <td>Free entry in 2 a wkly comp to win FA Cup fina...</td>\n",
              "      <td>NaN</td>\n",
              "      <td>NaN</td>\n",
              "      <td>NaN</td>\n",
              "    </tr>\n",
              "    <tr>\n",
              "      <th>3</th>\n",
              "      <td>ham</td>\n",
              "      <td>U dun say so early hor... U c already then say...</td>\n",
              "      <td>NaN</td>\n",
              "      <td>NaN</td>\n",
              "      <td>NaN</td>\n",
              "    </tr>\n",
              "    <tr>\n",
              "      <th>4</th>\n",
              "      <td>ham</td>\n",
              "      <td>Nah I don't think he goes to usf, he lives aro...</td>\n",
              "      <td>NaN</td>\n",
              "      <td>NaN</td>\n",
              "      <td>NaN</td>\n",
              "    </tr>\n",
              "  </tbody>\n",
              "</table>\n",
              "</div>\n",
              "    <div class=\"colab-df-buttons\">\n",
              "\n",
              "  <div class=\"colab-df-container\">\n",
              "    <button class=\"colab-df-convert\" onclick=\"convertToInteractive('df-2da7aac4-11fb-402e-b4d1-f32e1a24f789')\"\n",
              "            title=\"Convert this dataframe to an interactive table.\"\n",
              "            style=\"display:none;\">\n",
              "\n",
              "  <svg xmlns=\"http://www.w3.org/2000/svg\" height=\"24px\" viewBox=\"0 -960 960 960\">\n",
              "    <path d=\"M120-120v-720h720v720H120Zm60-500h600v-160H180v160Zm220 220h160v-160H400v160Zm0 220h160v-160H400v160ZM180-400h160v-160H180v160Zm440 0h160v-160H620v160ZM180-180h160v-160H180v160Zm440 0h160v-160H620v160Z\"/>\n",
              "  </svg>\n",
              "    </button>\n",
              "\n",
              "  <style>\n",
              "    .colab-df-container {\n",
              "      display:flex;\n",
              "      gap: 12px;\n",
              "    }\n",
              "\n",
              "    .colab-df-convert {\n",
              "      background-color: #E8F0FE;\n",
              "      border: none;\n",
              "      border-radius: 50%;\n",
              "      cursor: pointer;\n",
              "      display: none;\n",
              "      fill: #1967D2;\n",
              "      height: 32px;\n",
              "      padding: 0 0 0 0;\n",
              "      width: 32px;\n",
              "    }\n",
              "\n",
              "    .colab-df-convert:hover {\n",
              "      background-color: #E2EBFA;\n",
              "      box-shadow: 0px 1px 2px rgba(60, 64, 67, 0.3), 0px 1px 3px 1px rgba(60, 64, 67, 0.15);\n",
              "      fill: #174EA6;\n",
              "    }\n",
              "\n",
              "    .colab-df-buttons div {\n",
              "      margin-bottom: 4px;\n",
              "    }\n",
              "\n",
              "    [theme=dark] .colab-df-convert {\n",
              "      background-color: #3B4455;\n",
              "      fill: #D2E3FC;\n",
              "    }\n",
              "\n",
              "    [theme=dark] .colab-df-convert:hover {\n",
              "      background-color: #434B5C;\n",
              "      box-shadow: 0px 1px 3px 1px rgba(0, 0, 0, 0.15);\n",
              "      filter: drop-shadow(0px 1px 2px rgba(0, 0, 0, 0.3));\n",
              "      fill: #FFFFFF;\n",
              "    }\n",
              "  </style>\n",
              "\n",
              "    <script>\n",
              "      const buttonEl =\n",
              "        document.querySelector('#df-2da7aac4-11fb-402e-b4d1-f32e1a24f789 button.colab-df-convert');\n",
              "      buttonEl.style.display =\n",
              "        google.colab.kernel.accessAllowed ? 'block' : 'none';\n",
              "\n",
              "      async function convertToInteractive(key) {\n",
              "        const element = document.querySelector('#df-2da7aac4-11fb-402e-b4d1-f32e1a24f789');\n",
              "        const dataTable =\n",
              "          await google.colab.kernel.invokeFunction('convertToInteractive',\n",
              "                                                    [key], {});\n",
              "        if (!dataTable) return;\n",
              "\n",
              "        const docLinkHtml = 'Like what you see? Visit the ' +\n",
              "          '<a target=\"_blank\" href=https://colab.research.google.com/notebooks/data_table.ipynb>data table notebook</a>'\n",
              "          + ' to learn more about interactive tables.';\n",
              "        element.innerHTML = '';\n",
              "        dataTable['output_type'] = 'display_data';\n",
              "        await google.colab.output.renderOutput(dataTable, element);\n",
              "        const docLink = document.createElement('div');\n",
              "        docLink.innerHTML = docLinkHtml;\n",
              "        element.appendChild(docLink);\n",
              "      }\n",
              "    </script>\n",
              "  </div>\n",
              "\n",
              "\n",
              "<div id=\"df-3155c1e4-4282-4e59-9f34-a850eddc62cb\">\n",
              "  <button class=\"colab-df-quickchart\" onclick=\"quickchart('df-3155c1e4-4282-4e59-9f34-a850eddc62cb')\"\n",
              "            title=\"Suggest charts\"\n",
              "            style=\"display:none;\">\n",
              "\n",
              "<svg xmlns=\"http://www.w3.org/2000/svg\" height=\"24px\"viewBox=\"0 0 24 24\"\n",
              "     width=\"24px\">\n",
              "    <g>\n",
              "        <path d=\"M19 3H5c-1.1 0-2 .9-2 2v14c0 1.1.9 2 2 2h14c1.1 0 2-.9 2-2V5c0-1.1-.9-2-2-2zM9 17H7v-7h2v7zm4 0h-2V7h2v10zm4 0h-2v-4h2v4z\"/>\n",
              "    </g>\n",
              "</svg>\n",
              "  </button>\n",
              "\n",
              "<style>\n",
              "  .colab-df-quickchart {\n",
              "      --bg-color: #E8F0FE;\n",
              "      --fill-color: #1967D2;\n",
              "      --hover-bg-color: #E2EBFA;\n",
              "      --hover-fill-color: #174EA6;\n",
              "      --disabled-fill-color: #AAA;\n",
              "      --disabled-bg-color: #DDD;\n",
              "  }\n",
              "\n",
              "  [theme=dark] .colab-df-quickchart {\n",
              "      --bg-color: #3B4455;\n",
              "      --fill-color: #D2E3FC;\n",
              "      --hover-bg-color: #434B5C;\n",
              "      --hover-fill-color: #FFFFFF;\n",
              "      --disabled-bg-color: #3B4455;\n",
              "      --disabled-fill-color: #666;\n",
              "  }\n",
              "\n",
              "  .colab-df-quickchart {\n",
              "    background-color: var(--bg-color);\n",
              "    border: none;\n",
              "    border-radius: 50%;\n",
              "    cursor: pointer;\n",
              "    display: none;\n",
              "    fill: var(--fill-color);\n",
              "    height: 32px;\n",
              "    padding: 0;\n",
              "    width: 32px;\n",
              "  }\n",
              "\n",
              "  .colab-df-quickchart:hover {\n",
              "    background-color: var(--hover-bg-color);\n",
              "    box-shadow: 0 1px 2px rgba(60, 64, 67, 0.3), 0 1px 3px 1px rgba(60, 64, 67, 0.15);\n",
              "    fill: var(--button-hover-fill-color);\n",
              "  }\n",
              "\n",
              "  .colab-df-quickchart-complete:disabled,\n",
              "  .colab-df-quickchart-complete:disabled:hover {\n",
              "    background-color: var(--disabled-bg-color);\n",
              "    fill: var(--disabled-fill-color);\n",
              "    box-shadow: none;\n",
              "  }\n",
              "\n",
              "  .colab-df-spinner {\n",
              "    border: 2px solid var(--fill-color);\n",
              "    border-color: transparent;\n",
              "    border-bottom-color: var(--fill-color);\n",
              "    animation:\n",
              "      spin 1s steps(1) infinite;\n",
              "  }\n",
              "\n",
              "  @keyframes spin {\n",
              "    0% {\n",
              "      border-color: transparent;\n",
              "      border-bottom-color: var(--fill-color);\n",
              "      border-left-color: var(--fill-color);\n",
              "    }\n",
              "    20% {\n",
              "      border-color: transparent;\n",
              "      border-left-color: var(--fill-color);\n",
              "      border-top-color: var(--fill-color);\n",
              "    }\n",
              "    30% {\n",
              "      border-color: transparent;\n",
              "      border-left-color: var(--fill-color);\n",
              "      border-top-color: var(--fill-color);\n",
              "      border-right-color: var(--fill-color);\n",
              "    }\n",
              "    40% {\n",
              "      border-color: transparent;\n",
              "      border-right-color: var(--fill-color);\n",
              "      border-top-color: var(--fill-color);\n",
              "    }\n",
              "    60% {\n",
              "      border-color: transparent;\n",
              "      border-right-color: var(--fill-color);\n",
              "    }\n",
              "    80% {\n",
              "      border-color: transparent;\n",
              "      border-right-color: var(--fill-color);\n",
              "      border-bottom-color: var(--fill-color);\n",
              "    }\n",
              "    90% {\n",
              "      border-color: transparent;\n",
              "      border-bottom-color: var(--fill-color);\n",
              "    }\n",
              "  }\n",
              "</style>\n",
              "\n",
              "  <script>\n",
              "    async function quickchart(key) {\n",
              "      const quickchartButtonEl =\n",
              "        document.querySelector('#' + key + ' button');\n",
              "      quickchartButtonEl.disabled = true;  // To prevent multiple clicks.\n",
              "      quickchartButtonEl.classList.add('colab-df-spinner');\n",
              "      try {\n",
              "        const charts = await google.colab.kernel.invokeFunction(\n",
              "            'suggestCharts', [key], {});\n",
              "      } catch (error) {\n",
              "        console.error('Error during call to suggestCharts:', error);\n",
              "      }\n",
              "      quickchartButtonEl.classList.remove('colab-df-spinner');\n",
              "      quickchartButtonEl.classList.add('colab-df-quickchart-complete');\n",
              "    }\n",
              "    (() => {\n",
              "      let quickchartButtonEl =\n",
              "        document.querySelector('#df-3155c1e4-4282-4e59-9f34-a850eddc62cb button');\n",
              "      quickchartButtonEl.style.display =\n",
              "        google.colab.kernel.accessAllowed ? 'block' : 'none';\n",
              "    })();\n",
              "  </script>\n",
              "</div>\n",
              "\n",
              "    </div>\n",
              "  </div>\n"
            ],
            "application/vnd.google.colaboratory.intrinsic+json": {
              "type": "dataframe",
              "repr_error": "Out of range float values are not JSON compliant: nan"
            }
          },
          "metadata": {},
          "execution_count": 2
        }
      ]
    },
    {
      "cell_type": "code",
      "source": [
        "# spam을 1로 그렇지 않은 것을 0으로 변환하고 label을 분리\n",
        "data['v1'] = data['v1'].replace(['ham', 'spam'], [0, 1])\n",
        "y_data = list(data['v1'])\n",
        "X_data = list(data['v2'])\n",
        "X_data[:5]"
      ],
      "metadata": {
        "colab": {
          "base_uri": "https://localhost:8080/"
        },
        "id": "L73NMANbnot3",
        "outputId": "4de01d31-6fa9-4706-8770-78fb83be080e"
      },
      "execution_count": 17,
      "outputs": [
        {
          "output_type": "execute_result",
          "data": {
            "text/plain": [
              "['Go until jurong point, crazy.. Available only in bugis n great world la e buffet... Cine there got amore wat...',\n",
              " 'Ok lar... Joking wif u oni...',\n",
              " \"Free entry in 2 a wkly comp to win FA Cup final tkts 21st May 2005. Text FA to 87121 to receive entry question(std txt rate)T&C's apply 08452810075over18's\",\n",
              " 'U dun say so early hor... U c already then say...',\n",
              " \"Nah I don't think he goes to usf, he lives around here though\"]"
            ]
          },
          "metadata": {},
          "execution_count": 17
        }
      ]
    },
    {
      "cell_type": "code",
      "source": [
        "y_data[:5]"
      ],
      "metadata": {
        "colab": {
          "base_uri": "https://localhost:8080/"
        },
        "id": "kLCNIRW_n2Si",
        "outputId": "5915d862-313b-48ba-b6dc-78cb8633624b"
      },
      "execution_count": 18,
      "outputs": [
        {
          "output_type": "execute_result",
          "data": {
            "text/plain": [
              "[0, 0, 1, 0, 0]"
            ]
          },
          "metadata": {},
          "execution_count": 18
        }
      ]
    },
    {
      "cell_type": "code",
      "source": [
        "# 토크나이징을 수행\n",
        "X_data = [sent.split() for sent in X_data]\n",
        "X_data[:2]"
      ],
      "metadata": {
        "colab": {
          "base_uri": "https://localhost:8080/"
        },
        "id": "rdMlQunCqido",
        "outputId": "944a073e-787c-4a9e-ea7d-a91475841999"
      },
      "execution_count": 19,
      "outputs": [
        {
          "output_type": "execute_result",
          "data": {
            "text/plain": [
              "[['Go',\n",
              "  'until',\n",
              "  'jurong',\n",
              "  'point,',\n",
              "  'crazy..',\n",
              "  'Available',\n",
              "  'only',\n",
              "  'in',\n",
              "  'bugis',\n",
              "  'n',\n",
              "  'great',\n",
              "  'world',\n",
              "  'la',\n",
              "  'e',\n",
              "  'buffet...',\n",
              "  'Cine',\n",
              "  'there',\n",
              "  'got',\n",
              "  'amore',\n",
              "  'wat...'],\n",
              " ['Ok', 'lar...', 'Joking', 'wif', 'u', 'oni...']]"
            ]
          },
          "metadata": {},
          "execution_count": 19
        }
      ]
    },
    {
      "cell_type": "code",
      "source": [
        "n_of_train = int(len(X_data) * 0.8)\n",
        "n_of_test = int(len(X_data) - n_of_train)\n",
        "print(n_of_train, n_of_test)"
      ],
      "metadata": {
        "colab": {
          "base_uri": "https://localhost:8080/"
        },
        "id": "SylH_y-XoWiy",
        "outputId": "e17f941a-ed25-43b4-ddde-ad39c11f4d46"
      },
      "execution_count": 27,
      "outputs": [
        {
          "output_type": "stream",
          "name": "stdout",
          "text": [
            "4457 1115\n"
          ]
        }
      ]
    },
    {
      "cell_type": "code",
      "source": [
        "# 8:2로 train / test 데이터셋을 분리\n",
        "X_train = X_data[:n_of_train]\n",
        "y_train = y_data[:n_of_train]\n",
        "X_test = X_data[n_of_train:]\n",
        "y_test = y_data[n_of_train:]"
      ],
      "metadata": {
        "id": "7JD6Yv3hohjK"
      },
      "execution_count": 32,
      "outputs": []
    },
    {
      "cell_type": "code",
      "source": [
        "X_train[:2]"
      ],
      "metadata": {
        "colab": {
          "base_uri": "https://localhost:8080/"
        },
        "id": "ekGUOgZ3qTV8",
        "outputId": "15fe856d-d0f0-4549-8e65-33a210a0086d"
      },
      "execution_count": 34,
      "outputs": [
        {
          "output_type": "execute_result",
          "data": {
            "text/plain": [
              "[['Go',\n",
              "  'until',\n",
              "  'jurong',\n",
              "  'point,',\n",
              "  'crazy..',\n",
              "  'Available',\n",
              "  'only',\n",
              "  'in',\n",
              "  'bugis',\n",
              "  'n',\n",
              "  'great',\n",
              "  'world',\n",
              "  'la',\n",
              "  'e',\n",
              "  'buffet...',\n",
              "  'Cine',\n",
              "  'there',\n",
              "  'got',\n",
              "  'amore',\n",
              "  'wat...'],\n",
              " ['Ok', 'lar...', 'Joking', 'wif', 'u', 'oni...']]"
            ]
          },
          "metadata": {},
          "execution_count": 34
        }
      ]
    },
    {
      "cell_type": "code",
      "source": [
        "y_train[:2]"
      ],
      "metadata": {
        "colab": {
          "base_uri": "https://localhost:8080/"
        },
        "id": "nvrT84gfuTi3",
        "outputId": "b1c34754-f511-4e64-cffb-abcbd25e93a5"
      },
      "execution_count": 35,
      "outputs": [
        {
          "output_type": "execute_result",
          "data": {
            "text/plain": [
              "[0, 0]"
            ]
          },
          "metadata": {},
          "execution_count": 35
        }
      ]
    },
    {
      "cell_type": "markdown",
      "source": [
        "# ELMO를 이용한 분류"
      ],
      "metadata": {
        "id": "GF9eDuHpsa_H"
      }
    },
    {
      "cell_type": "code",
      "source": [
        "!pip install allennlp"
      ],
      "metadata": {
        "id": "bW0yuiXxsgzu"
      },
      "execution_count": null,
      "outputs": []
    },
    {
      "cell_type": "code",
      "source": [
        "import torch\n",
        "import torch.nn as nn\n",
        "import torch.nn.functional as F\n",
        "from allennlp.modules.elmo import Elmo, batch_to_ids\n",
        "\n",
        "# ELMo 옵션 파일과 가중치 파일 URL\n",
        "options_file = \"https://allennlp.s3.amazonaws.com/models/elmo/2x4096_512_2048cnn_2xhighway/elmo_2x4096_512_2048cnn_2xhighway_options.json\"\n",
        "weight_file = \"https://allennlp.s3.amazonaws.com/models/elmo/2x4096_512_2048cnn_2xhighway/elmo_2x4096_512_2048cnn_2xhighway_weights.hdf5\"\n",
        "\n",
        "class ELMoEmbedding(nn.Module):\n",
        "  def __init__(self):\n",
        "    super(ELMoEmbedding, self).__init__()\n",
        "    self.elmo = Elmo(options_file, weight_file, num_output_representations=1, dropout=0)\n",
        "\n",
        "  def forward(self, character_ids):\n",
        "    embeddings = self.elmo(character_ids) # 이를 입력으로 ELMo 모델로 임베딩을 계산\n",
        "    return embeddings['elmo_representations'][0] # 문장 단위로 평균을 낸다\n",
        "\n",
        "class ELMoModel(nn.Module):\n",
        "  def __init__(self):\n",
        "    super(ELMoModel, self).__init__()\n",
        "    self.elmo_embedding = ELMoEmbedding()\n",
        "    self.fc1 = nn.Linear(1024, 256)\n",
        "    self.fc2 = nn.Linear(256, 1)\n",
        "\n",
        "  def forward(self, x):\n",
        "    x = self.elmo_embedding(x)      # 입력된 문장을 ELMoEmbedding으로 임베딩 계산\n",
        "    x = x.mean(dim=1)\n",
        "    x = F.relu(self.fc1(x))\n",
        "    x = torch.sigmoid(self.fc2(x))\n",
        "    return x"
      ],
      "metadata": {
        "id": "hjnmT08tsckd"
      },
      "execution_count": 60,
      "outputs": []
    },
    {
      "cell_type": "code",
      "source": [
        "model = ELMoModel()\n",
        "print(model)"
      ],
      "metadata": {
        "colab": {
          "base_uri": "https://localhost:8080/"
        },
        "id": "cQ0GvQ9itIxQ",
        "outputId": "2505a330-3483-46c8-9e9e-c4e6ceeaad63"
      },
      "execution_count": 61,
      "outputs": [
        {
          "output_type": "stream",
          "name": "stdout",
          "text": [
            "ELMoModel(\n",
            "  (elmo_embedding): ELMoEmbedding(\n",
            "    (elmo): Elmo(\n",
            "      (_elmo_lstm): _ElmoBiLm(\n",
            "        (_token_embedder): _ElmoCharacterEncoder(\n",
            "          (char_conv_0): Conv1d(16, 32, kernel_size=(1,), stride=(1,))\n",
            "          (char_conv_1): Conv1d(16, 32, kernel_size=(2,), stride=(1,))\n",
            "          (char_conv_2): Conv1d(16, 64, kernel_size=(3,), stride=(1,))\n",
            "          (char_conv_3): Conv1d(16, 128, kernel_size=(4,), stride=(1,))\n",
            "          (char_conv_4): Conv1d(16, 256, kernel_size=(5,), stride=(1,))\n",
            "          (char_conv_5): Conv1d(16, 512, kernel_size=(6,), stride=(1,))\n",
            "          (char_conv_6): Conv1d(16, 1024, kernel_size=(7,), stride=(1,))\n",
            "          (_highways): Highway(\n",
            "            (_layers): ModuleList(\n",
            "              (0): Linear(in_features=2048, out_features=4096, bias=True)\n",
            "              (1): Linear(in_features=2048, out_features=4096, bias=True)\n",
            "            )\n",
            "          )\n",
            "          (_projection): Linear(in_features=2048, out_features=512, bias=True)\n",
            "        )\n",
            "        (_elmo_lstm): ElmoLstm(\n",
            "          (forward_layer_0): LstmCellWithProjection(\n",
            "            (input_linearity): Linear(in_features=512, out_features=16384, bias=False)\n",
            "            (state_linearity): Linear(in_features=512, out_features=16384, bias=True)\n",
            "            (state_projection): Linear(in_features=4096, out_features=512, bias=False)\n",
            "          )\n",
            "          (backward_layer_0): LstmCellWithProjection(\n",
            "            (input_linearity): Linear(in_features=512, out_features=16384, bias=False)\n",
            "            (state_linearity): Linear(in_features=512, out_features=16384, bias=True)\n",
            "            (state_projection): Linear(in_features=4096, out_features=512, bias=False)\n",
            "          )\n",
            "          (forward_layer_1): LstmCellWithProjection(\n",
            "            (input_linearity): Linear(in_features=512, out_features=16384, bias=False)\n",
            "            (state_linearity): Linear(in_features=512, out_features=16384, bias=True)\n",
            "            (state_projection): Linear(in_features=4096, out_features=512, bias=False)\n",
            "          )\n",
            "          (backward_layer_1): LstmCellWithProjection(\n",
            "            (input_linearity): Linear(in_features=512, out_features=16384, bias=False)\n",
            "            (state_linearity): Linear(in_features=512, out_features=16384, bias=True)\n",
            "            (state_projection): Linear(in_features=4096, out_features=512, bias=False)\n",
            "          )\n",
            "        )\n",
            "      )\n",
            "      (_dropout): Dropout(p=0, inplace=False)\n",
            "      (scalar_mix_0): ScalarMix(\n",
            "        (scalar_parameters): ParameterList(\n",
            "            (0): Parameter containing: [torch.FloatTensor of size 1]\n",
            "            (1): Parameter containing: [torch.FloatTensor of size 1]\n",
            "            (2): Parameter containing: [torch.FloatTensor of size 1]\n",
            "        )\n",
            "      )\n",
            "    )\n",
            "  )\n",
            "  (fc1): Linear(in_features=1024, out_features=256, bias=True)\n",
            "  (fc2): Linear(in_features=256, out_features=1, bias=True)\n",
            ")\n"
          ]
        }
      ]
    },
    {
      "cell_type": "code",
      "source": [
        "criterion = nn.BCELoss()\n",
        "optimizer = torch.optim.Adam(model.parameters(), lr=0.001)"
      ],
      "metadata": {
        "id": "9EjNXXjxp4LE"
      },
      "execution_count": 62,
      "outputs": []
    },
    {
      "cell_type": "code",
      "source": [
        "# ELMo는 padding을 넣어 길이를 맞춰줄 필요가 없는데 torch의 DataLoader를 사용하면 길이가 맞지 않을 때 오류가 발생한다\n",
        "\n",
        "# from torch.utils.data import DataLoader\n",
        "# class CustomDataset(torch.utils.data.Dataset):\n",
        "#     def __init__(self, X, y):\n",
        "#         self.X = X\n",
        "#         self.y = y\n",
        "#     def __len__(self):\n",
        "#         return len(self.X)\n",
        "#     def __getitem__(self, idx):\n",
        "#         return self.X[idx], self.y[idx]\n",
        "\n",
        "# dataset = CustomDataset(X_train, y_train)\n",
        "# dataloader = DataLoader(dataset, batch_size=60)\n",
        "# test_dataset = CustomDataset(X_test, y_test)\n",
        "# test_dataloader = DataLoader(test_dataset, batch_size=60, shuffle=False)"
      ],
      "metadata": {
        "id": "KVq_yGgHsxyW"
      },
      "execution_count": 45,
      "outputs": []
    },
    {
      "cell_type": "code",
      "source": [
        "device = torch.device('cuda' if torch.cuda.is_available() else 'cpu')\n",
        "model.to(device)\n",
        "for epoch in range(5):\n",
        "    model.train()  # 모델을 학습 모드로 설정\n",
        "    total_loss = 0\n",
        "    for sentence, label in zip(X_train, y_train):\n",
        "        sentence = [sentence] # batch_to_ids는 List[List[str]]을 기대\n",
        "        optimizer.zero_grad()  # 옵티마이저의 기울기 초기화\n",
        "        character_ids = batch_to_ids(sentence).to(device)\n",
        "        outputs = model(character_ids)[0] # batch가 1개이므로\n",
        "        label = torch.tensor([label], dtype=torch.float32).view(-1).to(device)  # 레이블을 텐서로 변환 및 차원 맞추기\n",
        "        loss = criterion(outputs, label)\n",
        "        loss.backward()\n",
        "        optimizer.step()\n",
        "        total_loss += loss.item()\n",
        "    print(f'Epoch {epoch+1}/{5}, Loss: {total_loss/len(X_train)}')"
      ],
      "metadata": {
        "colab": {
          "base_uri": "https://localhost:8080/"
        },
        "id": "zqU6NXuJvi9t",
        "outputId": "39d26951-72e2-4877-bced-9c52ae536a12"
      },
      "execution_count": 69,
      "outputs": [
        {
          "output_type": "stream",
          "name": "stdout",
          "text": [
            "Epoch 1/5, Loss: 0.07178671832040222\n",
            "Epoch 2/5, Loss: 0.04388555014879575\n",
            "Epoch 3/5, Loss: 0.031172774039077745\n",
            "Epoch 4/5, Loss: 0.022764607873046374\n",
            "Epoch 5/5, Loss: 0.01090305675246012\n"
          ]
        }
      ]
    },
    {
      "cell_type": "code",
      "source": [
        "from sklearn.metrics import accuracy_score\n",
        "\n",
        "# 모델을 평가 모드로 전환\n",
        "model.eval()\n",
        "\n",
        "# 테스트 예측 결과를 저장할 리스트 초기화\n",
        "all_predictions = []\n",
        "all_labels = []\n",
        "\n",
        "with torch.no_grad():  # 테스트 시에는 기울기 계산을 하지 않음\n",
        "    for sentence, label in zip(X_test, y_test):\n",
        "        sentence = [sentence]  # batch_to_ids는 List[List[str]] 형식을 기대\n",
        "        character_ids = batch_to_ids(sentence).to(device)\n",
        "        outputs = model(character_ids)[0]  # batch가 1개이므로 [0]으로 접근\n",
        "        prediction = (outputs >= 0.5).float() # 예측값을 0 또는 1로 변환 (0.5를 기준으로)\n",
        "\n",
        "        # 예측값과 실제 레이블 저장\n",
        "        all_predictions.append(prediction.cpu().numpy())\n",
        "        all_labels.append(label)\n",
        "\n",
        "# 정확도 계산\n",
        "accuracy = accuracy_score(all_labels, all_predictions)\n",
        "print(f'Test Accuracy: {accuracy * 100:.2f}%')"
      ],
      "metadata": {
        "colab": {
          "base_uri": "https://localhost:8080/"
        },
        "id": "avwdeCihv9as",
        "outputId": "38b3a451-40ff-4eae-a448-0b3e8ee2ceca"
      },
      "execution_count": 70,
      "outputs": [
        {
          "output_type": "stream",
          "name": "stdout",
          "text": [
            "Test Accuracy: 98.65%\n"
          ]
        }
      ]
    }
  ]
}
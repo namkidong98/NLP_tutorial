{
  "nbformat": 4,
  "nbformat_minor": 0,
  "metadata": {
    "colab": {
      "provenance": []
    },
    "kernelspec": {
      "name": "python3",
      "display_name": "Python 3"
    },
    "language_info": {
      "name": "python"
    }
  },
  "cells": [
    {
      "cell_type": "markdown",
      "source": [
        "## GloVe"
      ],
      "metadata": {
        "id": "IxpxGVTWET_p"
      }
    },
    {
      "cell_type": "code",
      "source": [
        "import re\n",
        "import urllib.request\n",
        "from lxml import etree\n",
        "import nltk\n",
        "from nltk.tokenize import word_tokenize, sent_tokenize\n",
        "nltk.download('punkt')"
      ],
      "metadata": {
        "colab": {
          "base_uri": "https://localhost:8080/"
        },
        "id": "94obCJMm-PBN",
        "outputId": "46f673f5-f6b1-4ea7-a145-b1afaec705c7"
      },
      "execution_count": 2,
      "outputs": [
        {
          "output_type": "stream",
          "name": "stderr",
          "text": [
            "[nltk_data] Downloading package punkt to /root/nltk_data...\n",
            "[nltk_data]   Package punkt is already up-to-date!\n"
          ]
        },
        {
          "output_type": "execute_result",
          "data": {
            "text/plain": [
              "True"
            ]
          },
          "metadata": {},
          "execution_count": 2
        }
      ]
    },
    {
      "cell_type": "code",
      "source": [
        "urllib.request.urlretrieve(\"https://raw.githubusercontent.com/ukairia777/tensorflow-nlp-tutorial/main/09.%20Word%20Embedding/dataset/ted_en-20160408.xml\", filename=\"ted_en-20160408.xml\")"
      ],
      "metadata": {
        "colab": {
          "base_uri": "https://localhost:8080/"
        },
        "id": "7RawG8Iu-P5H",
        "outputId": "a881813e-f604-433b-9e9f-3773968f43b7"
      },
      "execution_count": 4,
      "outputs": [
        {
          "output_type": "execute_result",
          "data": {
            "text/plain": [
              "('ted_en-20160408.xml', <http.client.HTTPMessage at 0x7f1ecd82e890>)"
            ]
          },
          "metadata": {},
          "execution_count": 4
        }
      ]
    },
    {
      "cell_type": "code",
      "source": [
        "targetXML = open('ted_en-20160408.xml', 'r', encoding='UTF8')\n",
        "target_text = etree.parse(targetXML)\n",
        "\n",
        "parse_text = '\\n'.join(target_text.xpath('//content/text()')) # <content> ~ </content> 부분의 내용을 개행하며 하나의 문자열로 통합\n",
        "content_text = re.sub(r'\\([^)]*\\)', '', parse_text)           # 괄호로 묶인 내부에 있는 불필요한 부분 제거\n",
        "sent_text = sent_tokenize(content_text)                       # 문자열을 sentence tokenizer로 문장 토큰화\n",
        "\n",
        "normalized_text = []\n",
        "for string in sent_text:\n",
        "  tokens = re.sub(r\"[^a-z0-9]+\", \" \", string.lower()) # 구두점 제거, 소문자 변환\n",
        "  normalized_text.append(tokens)                      # 정규화된 문장 토큰들로 만들고\n",
        "\n",
        "result = [word_tokenize(sentence) for sentence in normalized_text]  # 각 문장마다 단어 토큰화를 진행하여 총 단어 토큰들로 이루어진 Corpus 생성\n",
        "print('총 샘플의 개수 : {}'.format(len(result)))"
      ],
      "metadata": {
        "colab": {
          "base_uri": "https://localhost:8080/"
        },
        "id": "0RHOaUwN-Usw",
        "outputId": "7758d152-2e76-46f1-f99e-5dd0b3d11684"
      },
      "execution_count": 3,
      "outputs": [
        {
          "output_type": "stream",
          "name": "stdout",
          "text": [
            "총 샘플의 개수 : 273424\n"
          ]
        }
      ]
    },
    {
      "cell_type": "code",
      "source": [
        "# 2024년 7월 colab 환경 기준, glove_python, glove_python_binary 모두 안 된다\n",
        "!pip install glove-python3"
      ],
      "metadata": {
        "id": "NxhJhLM2-pB7"
      },
      "execution_count": null,
      "outputs": []
    },
    {
      "cell_type": "code",
      "source": [
        "from glove import Corpus, Glove\n",
        "\n",
        "corpus = Corpus()\n",
        "\n",
        "corpus.fit(result, window=5) # 단어 토큰화된 result를 기반으로하고 window를 5로 잡아 corpus를 생성\n",
        "glove = Glove(no_components=100, learning_rate=0.05)\n",
        "# no_components : 워드 임베딩 벡터의 차원\n",
        "\n",
        "glove.fit(corpus.matrix, epochs=20, no_threads=4, verbose=True)\n",
        "glove.add_dictionary(corpus.dictionary)"
      ],
      "metadata": {
        "colab": {
          "base_uri": "https://localhost:8080/"
        },
        "id": "ZE5FwDoX9e4n",
        "outputId": "aaeca9e6-463b-457d-866e-8775bcb1cc54"
      },
      "execution_count": 7,
      "outputs": [
        {
          "output_type": "stream",
          "name": "stdout",
          "text": [
            "Performing 20 training epochs with 4 threads\n",
            "Epoch 0\n",
            "Epoch 1\n",
            "Epoch 2\n",
            "Epoch 3\n",
            "Epoch 4\n",
            "Epoch 5\n",
            "Epoch 6\n",
            "Epoch 7\n",
            "Epoch 8\n",
            "Epoch 9\n",
            "Epoch 10\n",
            "Epoch 11\n",
            "Epoch 12\n",
            "Epoch 13\n",
            "Epoch 14\n",
            "Epoch 15\n",
            "Epoch 16\n",
            "Epoch 17\n",
            "Epoch 18\n",
            "Epoch 19\n"
          ]
        }
      ]
    },
    {
      "cell_type": "code",
      "source": [
        "corpus.matrix.shape # co-occurence matrix의 차원\n",
        "                    # 즉, 54775개의 단어가 corpus를 구성하고 있다고 볼 수 있다"
      ],
      "metadata": {
        "colab": {
          "base_uri": "https://localhost:8080/"
        },
        "id": "aNw0R5XiCtQF",
        "outputId": "2261ad9a-0d39-45e9-8c09-81b0384d67d3"
      },
      "execution_count": 18,
      "outputs": [
        {
          "output_type": "execute_result",
          "data": {
            "text/plain": [
              "(54775, 54775)"
            ]
          },
          "metadata": {},
          "execution_count": 18
        }
      ]
    },
    {
      "cell_type": "code",
      "source": [
        "print(glove.most_similar(\"man\"))"
      ],
      "metadata": {
        "colab": {
          "base_uri": "https://localhost:8080/"
        },
        "id": "TMA_sPSx-cGJ",
        "outputId": "27e50594-c295-47d3-bb2d-5683630c8be8"
      },
      "execution_count": 8,
      "outputs": [
        {
          "output_type": "stream",
          "name": "stdout",
          "text": [
            "[('woman', 0.962044604125184), ('guy', 0.9017877179675742), ('girl', 0.8511967695295493), ('young', 0.8431801139894113)]\n"
          ]
        }
      ]
    },
    {
      "cell_type": "code",
      "source": [
        "print(glove.most_similar(\"boy\"))"
      ],
      "metadata": {
        "colab": {
          "base_uri": "https://localhost:8080/"
        },
        "id": "eIIKwlXpCDt2",
        "outputId": "2fb7e04f-1c60-4998-fe17-528ded4f9b1d"
      },
      "execution_count": 9,
      "outputs": [
        {
          "output_type": "stream",
          "name": "stdout",
          "text": [
            "[('girl', 0.936422254880417), ('woman', 0.8388378818393863), ('kid', 0.8290882481640035), ('man', 0.8250209209649827)]\n"
          ]
        }
      ]
    },
    {
      "cell_type": "code",
      "source": [
        "print(glove.most_similar(\"university\"))"
      ],
      "metadata": {
        "colab": {
          "base_uri": "https://localhost:8080/"
        },
        "id": "3a0qibLNCHAQ",
        "outputId": "dd7ca748-7083-4f43-a058-7740fef56b90"
      },
      "execution_count": 10,
      "outputs": [
        {
          "output_type": "stream",
          "name": "stdout",
          "text": [
            "[('harvard', 0.8809321437038237), ('mit', 0.843707551558188), ('cambridge', 0.8404076394004669), ('stanford', 0.8366046714180211)]\n"
          ]
        }
      ]
    },
    {
      "cell_type": "code",
      "source": [
        "print(glove.most_similar(\"water\"))"
      ],
      "metadata": {
        "colab": {
          "base_uri": "https://localhost:8080/"
        },
        "id": "rbxy2hqDCJfV",
        "outputId": "e62c9c40-dd4d-4b64-81a9-b1bb5c5559fb"
      },
      "execution_count": 11,
      "outputs": [
        {
          "output_type": "stream",
          "name": "stdout",
          "text": [
            "[('air', 0.8416346493060578), ('clean', 0.8337566160174978), ('fresh', 0.8322980136847533), ('electricity', 0.8105004538118061)]\n"
          ]
        }
      ]
    },
    {
      "cell_type": "code",
      "source": [
        "print(glove.most_similar(\"physics\"))"
      ],
      "metadata": {
        "colab": {
          "base_uri": "https://localhost:8080/"
        },
        "id": "D_BQ-0V3CMe2",
        "outputId": "21a13706-29c3-493a-db63-fc980fd06375"
      },
      "execution_count": 12,
      "outputs": [
        {
          "output_type": "stream",
          "name": "stdout",
          "text": [
            "[('chemistry', 0.9032726357073866), ('beauty', 0.8753921742667087), ('economics', 0.8690628828914557), ('biology', 0.8632811664952816)]\n"
          ]
        }
      ]
    },
    {
      "cell_type": "code",
      "source": [
        "print(glove.most_similar(\"muslce\")) # 잘못 입력 했을 때"
      ],
      "metadata": {
        "colab": {
          "base_uri": "https://localhost:8080/",
          "height": 428
        },
        "id": "NlF0G5hMCOD5",
        "outputId": "d3dfade9-2480-449a-ee16-ffca834a7af9"
      },
      "execution_count": 13,
      "outputs": [
        {
          "output_type": "error",
          "ename": "Exception",
          "evalue": "Word not in dictionary",
          "traceback": [
            "\u001b[0;31m---------------------------------------------------------------------------\u001b[0m",
            "\u001b[0;31mKeyError\u001b[0m                                  Traceback (most recent call last)",
            "\u001b[0;32m/usr/local/lib/python3.10/dist-packages/glove/glove.py\u001b[0m in \u001b[0;36mmost_similar\u001b[0;34m(self, word, number)\u001b[0m\n\u001b[1;32m    295\u001b[0m         \u001b[0;32mtry\u001b[0m\u001b[0;34m:\u001b[0m\u001b[0;34m\u001b[0m\u001b[0;34m\u001b[0m\u001b[0m\n\u001b[0;32m--> 296\u001b[0;31m             \u001b[0mword_idx\u001b[0m \u001b[0;34m=\u001b[0m \u001b[0mself\u001b[0m\u001b[0;34m.\u001b[0m\u001b[0mdictionary\u001b[0m\u001b[0;34m[\u001b[0m\u001b[0mword\u001b[0m\u001b[0;34m]\u001b[0m\u001b[0;34m\u001b[0m\u001b[0;34m\u001b[0m\u001b[0m\n\u001b[0m\u001b[1;32m    297\u001b[0m         \u001b[0;32mexcept\u001b[0m \u001b[0mKeyError\u001b[0m\u001b[0;34m:\u001b[0m\u001b[0;34m\u001b[0m\u001b[0;34m\u001b[0m\u001b[0m\n",
            "\u001b[0;31mKeyError\u001b[0m: 'muslce'",
            "\nDuring handling of the above exception, another exception occurred:\n",
            "\u001b[0;31mException\u001b[0m                                 Traceback (most recent call last)",
            "\u001b[0;32m<ipython-input-13-fc73e10cc392>\u001b[0m in \u001b[0;36m<cell line: 1>\u001b[0;34m()\u001b[0m\n\u001b[0;32m----> 1\u001b[0;31m \u001b[0mprint\u001b[0m\u001b[0;34m(\u001b[0m\u001b[0mglove\u001b[0m\u001b[0;34m.\u001b[0m\u001b[0mmost_similar\u001b[0m\u001b[0;34m(\u001b[0m\u001b[0;34m\"muslce\"\u001b[0m\u001b[0;34m)\u001b[0m\u001b[0;34m)\u001b[0m\u001b[0;34m\u001b[0m\u001b[0;34m\u001b[0m\u001b[0m\n\u001b[0m",
            "\u001b[0;32m/usr/local/lib/python3.10/dist-packages/glove/glove.py\u001b[0m in \u001b[0;36mmost_similar\u001b[0;34m(self, word, number)\u001b[0m\n\u001b[1;32m    296\u001b[0m             \u001b[0mword_idx\u001b[0m \u001b[0;34m=\u001b[0m \u001b[0mself\u001b[0m\u001b[0;34m.\u001b[0m\u001b[0mdictionary\u001b[0m\u001b[0;34m[\u001b[0m\u001b[0mword\u001b[0m\u001b[0;34m]\u001b[0m\u001b[0;34m\u001b[0m\u001b[0;34m\u001b[0m\u001b[0m\n\u001b[1;32m    297\u001b[0m         \u001b[0;32mexcept\u001b[0m \u001b[0mKeyError\u001b[0m\u001b[0;34m:\u001b[0m\u001b[0;34m\u001b[0m\u001b[0;34m\u001b[0m\u001b[0m\n\u001b[0;32m--> 298\u001b[0;31m             \u001b[0;32mraise\u001b[0m \u001b[0mException\u001b[0m\u001b[0;34m(\u001b[0m\u001b[0;34m'Word not in dictionary'\u001b[0m\u001b[0;34m)\u001b[0m\u001b[0;34m\u001b[0m\u001b[0;34m\u001b[0m\u001b[0m\n\u001b[0m\u001b[1;32m    299\u001b[0m \u001b[0;34m\u001b[0m\u001b[0m\n\u001b[1;32m    300\u001b[0m         \u001b[0;32mreturn\u001b[0m \u001b[0mself\u001b[0m\u001b[0;34m.\u001b[0m\u001b[0m_similarity_query\u001b[0m\u001b[0;34m(\u001b[0m\u001b[0mself\u001b[0m\u001b[0;34m.\u001b[0m\u001b[0mword_vectors\u001b[0m\u001b[0;34m[\u001b[0m\u001b[0mword_idx\u001b[0m\u001b[0;34m]\u001b[0m\u001b[0;34m,\u001b[0m \u001b[0mnumber\u001b[0m\u001b[0;34m)\u001b[0m\u001b[0;34m[\u001b[0m\u001b[0;36m1\u001b[0m\u001b[0;34m:\u001b[0m\u001b[0;34m]\u001b[0m\u001b[0;34m\u001b[0m\u001b[0;34m\u001b[0m\u001b[0m\n",
            "\u001b[0;31mException\u001b[0m: Word not in dictionary"
          ]
        }
      ]
    },
    {
      "cell_type": "code",
      "source": [
        "print(glove.most_similar(\"muscle\"))"
      ],
      "metadata": {
        "colab": {
          "base_uri": "https://localhost:8080/"
        },
        "id": "1zHsIruhCQ-M",
        "outputId": "c27a2e70-3366-4194-be8b-657fcd8e656a"
      },
      "execution_count": 14,
      "outputs": [
        {
          "output_type": "stream",
          "name": "stdout",
          "text": [
            "[('tissue', 0.8602045938691039), ('nerve', 0.8208525721280927), ('foreign', 0.7717823414490498), ('bone', 0.7674321580498014)]\n"
          ]
        }
      ]
    },
    {
      "cell_type": "code",
      "source": [
        "print(glove.most_similar(\"clean\"))"
      ],
      "metadata": {
        "colab": {
          "base_uri": "https://localhost:8080/"
        },
        "id": "_s-1uFV9CTS4",
        "outputId": "21be063e-11b0-4504-f3a5-bd7a879b3ce7"
      },
      "execution_count": 15,
      "outputs": [
        {
          "output_type": "stream",
          "name": "stdout",
          "text": [
            "[('fresh', 0.8351820892499696), ('water', 0.833756616017498), ('heat', 0.8247906158059961), ('air', 0.8048206866349596)]\n"
          ]
        }
      ]
    },
    {
      "cell_type": "markdown",
      "source": [
        "## FastText vs Word2Vec"
      ],
      "metadata": {
        "id": "JPdpPExMEWOk"
      }
    },
    {
      "cell_type": "code",
      "source": [
        "len(result) # 기존에 전처리해둔 데이터셋"
      ],
      "metadata": {
        "colab": {
          "base_uri": "https://localhost:8080/"
        },
        "id": "0ur2HPeAEXT1",
        "outputId": "8aa48d89-50fc-4561-b370-7153167f278b"
      },
      "execution_count": 3,
      "outputs": [
        {
          "output_type": "execute_result",
          "data": {
            "text/plain": [
              "273424"
            ]
          },
          "metadata": {},
          "execution_count": 3
        }
      ]
    },
    {
      "cell_type": "code",
      "source": [
        "from gensim.models import Word2Vec\n",
        "\n",
        "model = Word2Vec(sentences=result, vector_size=100, window=5, min_count=5, workers=4, sg=0) # 450만개 가량의 토큰에 대한 Word2Vec 학습(40초 정도 소요)"
      ],
      "metadata": {
        "id": "LcSHOaRMKsVk"
      },
      "execution_count": 28,
      "outputs": []
    },
    {
      "cell_type": "code",
      "source": [
        "# Word2Vec의 경우 오타나 이상한 어휘에 대해 OOV로 인한 문제가 발생\n",
        "model.wv.most_similar(\"electrofishing\")"
      ],
      "metadata": {
        "colab": {
          "base_uri": "https://localhost:8080/",
          "height": 300
        },
        "id": "9Cl9tHrMK_fI",
        "outputId": "780606ac-cfce-4eec-b79c-d47c0cf7d85c"
      },
      "execution_count": 29,
      "outputs": [
        {
          "output_type": "error",
          "ename": "KeyError",
          "evalue": "\"Key 'electrofishing' not present in vocabulary\"",
          "traceback": [
            "\u001b[0;31m---------------------------------------------------------------------------\u001b[0m",
            "\u001b[0;31mKeyError\u001b[0m                                  Traceback (most recent call last)",
            "\u001b[0;32m<ipython-input-29-f9544fe3d5e9>\u001b[0m in \u001b[0;36m<cell line: 1>\u001b[0;34m()\u001b[0m\n\u001b[0;32m----> 1\u001b[0;31m \u001b[0mmodel\u001b[0m\u001b[0;34m.\u001b[0m\u001b[0mwv\u001b[0m\u001b[0;34m.\u001b[0m\u001b[0mmost_similar\u001b[0m\u001b[0;34m(\u001b[0m\u001b[0;34m\"electrofishing\"\u001b[0m\u001b[0;34m)\u001b[0m\u001b[0;34m\u001b[0m\u001b[0;34m\u001b[0m\u001b[0m\n\u001b[0m",
            "\u001b[0;32m/usr/local/lib/python3.10/dist-packages/gensim/models/keyedvectors.py\u001b[0m in \u001b[0;36mmost_similar\u001b[0;34m(self, positive, negative, topn, clip_start, clip_end, restrict_vocab, indexer)\u001b[0m\n\u001b[1;32m    839\u001b[0m \u001b[0;34m\u001b[0m\u001b[0m\n\u001b[1;32m    840\u001b[0m         \u001b[0;31m# compute the weighted average of all keys\u001b[0m\u001b[0;34m\u001b[0m\u001b[0;34m\u001b[0m\u001b[0m\n\u001b[0;32m--> 841\u001b[0;31m         \u001b[0mmean\u001b[0m \u001b[0;34m=\u001b[0m \u001b[0mself\u001b[0m\u001b[0;34m.\u001b[0m\u001b[0mget_mean_vector\u001b[0m\u001b[0;34m(\u001b[0m\u001b[0mkeys\u001b[0m\u001b[0;34m,\u001b[0m \u001b[0mweight\u001b[0m\u001b[0;34m,\u001b[0m \u001b[0mpre_normalize\u001b[0m\u001b[0;34m=\u001b[0m\u001b[0;32mTrue\u001b[0m\u001b[0;34m,\u001b[0m \u001b[0mpost_normalize\u001b[0m\u001b[0;34m=\u001b[0m\u001b[0;32mTrue\u001b[0m\u001b[0;34m,\u001b[0m \u001b[0mignore_missing\u001b[0m\u001b[0;34m=\u001b[0m\u001b[0;32mFalse\u001b[0m\u001b[0;34m)\u001b[0m\u001b[0;34m\u001b[0m\u001b[0;34m\u001b[0m\u001b[0m\n\u001b[0m\u001b[1;32m    842\u001b[0m         all_keys = [\n\u001b[1;32m    843\u001b[0m             \u001b[0mself\u001b[0m\u001b[0;34m.\u001b[0m\u001b[0mget_index\u001b[0m\u001b[0;34m(\u001b[0m\u001b[0mkey\u001b[0m\u001b[0;34m)\u001b[0m \u001b[0;32mfor\u001b[0m \u001b[0mkey\u001b[0m \u001b[0;32min\u001b[0m \u001b[0mkeys\u001b[0m \u001b[0;32mif\u001b[0m \u001b[0misinstance\u001b[0m\u001b[0;34m(\u001b[0m\u001b[0mkey\u001b[0m\u001b[0;34m,\u001b[0m \u001b[0m_KEY_TYPES\u001b[0m\u001b[0;34m)\u001b[0m \u001b[0;32mand\u001b[0m \u001b[0mself\u001b[0m\u001b[0;34m.\u001b[0m\u001b[0mhas_index_for\u001b[0m\u001b[0;34m(\u001b[0m\u001b[0mkey\u001b[0m\u001b[0;34m)\u001b[0m\u001b[0;34m\u001b[0m\u001b[0;34m\u001b[0m\u001b[0m\n",
            "\u001b[0;32m/usr/local/lib/python3.10/dist-packages/gensim/models/keyedvectors.py\u001b[0m in \u001b[0;36mget_mean_vector\u001b[0;34m(self, keys, weights, pre_normalize, post_normalize, ignore_missing)\u001b[0m\n\u001b[1;32m    516\u001b[0m                 \u001b[0mtotal_weight\u001b[0m \u001b[0;34m+=\u001b[0m \u001b[0mabs\u001b[0m\u001b[0;34m(\u001b[0m\u001b[0mweights\u001b[0m\u001b[0;34m[\u001b[0m\u001b[0midx\u001b[0m\u001b[0;34m]\u001b[0m\u001b[0;34m)\u001b[0m\u001b[0;34m\u001b[0m\u001b[0;34m\u001b[0m\u001b[0m\n\u001b[1;32m    517\u001b[0m             \u001b[0;32melif\u001b[0m \u001b[0;32mnot\u001b[0m \u001b[0mignore_missing\u001b[0m\u001b[0;34m:\u001b[0m\u001b[0;34m\u001b[0m\u001b[0;34m\u001b[0m\u001b[0m\n\u001b[0;32m--> 518\u001b[0;31m                 \u001b[0;32mraise\u001b[0m \u001b[0mKeyError\u001b[0m\u001b[0;34m(\u001b[0m\u001b[0;34mf\"Key '{key}' not present in vocabulary\"\u001b[0m\u001b[0;34m)\u001b[0m\u001b[0;34m\u001b[0m\u001b[0;34m\u001b[0m\u001b[0m\n\u001b[0m\u001b[1;32m    519\u001b[0m \u001b[0;34m\u001b[0m\u001b[0m\n\u001b[1;32m    520\u001b[0m         \u001b[0;32mif\u001b[0m \u001b[0mtotal_weight\u001b[0m \u001b[0;34m>\u001b[0m \u001b[0;36m0\u001b[0m\u001b[0;34m:\u001b[0m\u001b[0;34m\u001b[0m\u001b[0;34m\u001b[0m\u001b[0m\n",
            "\u001b[0;31mKeyError\u001b[0m: \"Key 'electrofishing' not present in vocabulary\""
          ]
        }
      ]
    },
    {
      "cell_type": "code",
      "source": [
        "from gensim.models import FastText\n",
        "\n",
        "fast_text_model = FastText(result, vector_size=100, window=5, min_count=5, workers=4, sg=0) # 동일한 옵션에서 FastText 모델로 학습"
      ],
      "metadata": {
        "id": "9wR6A3NCLFLC"
      },
      "execution_count": 31,
      "outputs": []
    },
    {
      "cell_type": "code",
      "source": [
        "# Word2Vec과 다르게 Subwords에 대해 학습하였기 때문에 OOV, Rare Word에 robust하다\n",
        "fast_text_model.wv.most_similar(\"electrofishing\")"
      ],
      "metadata": {
        "colab": {
          "base_uri": "https://localhost:8080/"
        },
        "id": "k_0b2pwXLWEP",
        "outputId": "ada9d49d-92fa-4d94-f503-547554c1d867"
      },
      "execution_count": 32,
      "outputs": [
        {
          "output_type": "execute_result",
          "data": {
            "text/plain": [
              "[('licensing', 0.913245677947998),\n",
              " ('fishing', 0.9109775424003601),\n",
              " ('operating', 0.9012295007705688),\n",
              " ('recycling', 0.9002954363822937),\n",
              " ('sprinting', 0.9002386331558228),\n",
              " ('skateboarding', 0.8984874486923218),\n",
              " ('ceiling', 0.8978874087333679),\n",
              " ('flourishing', 0.8963640928268433),\n",
              " ('transplanting', 0.8961915373802185),\n",
              " ('flushing', 0.89476478099823)]"
            ]
          },
          "metadata": {},
          "execution_count": 32
        }
      ]
    },
    {
      "cell_type": "markdown",
      "source": [
        "\"apple\"에 대해서 Word2Vec은 Apple 회사 관련한 키워드가 많이 보이며, FastText의 경우 subwords를 고려하여 apple과 유사한 표현들, 예를 들어 pineapple 등의 유사도가 높게 나왔다"
      ],
      "metadata": {
        "id": "MA99SwLONTdM"
      }
    },
    {
      "cell_type": "code",
      "source": [
        "model.wv.most_similar(\"apple\")"
      ],
      "metadata": {
        "colab": {
          "base_uri": "https://localhost:8080/"
        },
        "id": "qge4oiP6NEhl",
        "outputId": "5288304c-7e77-490b-964a-e53be396b318"
      },
      "execution_count": 33,
      "outputs": [
        {
          "output_type": "execute_result",
          "data": {
            "text/plain": [
              "[('alarm', 0.7501398324966431),\n",
              " ('icon', 0.7498602271080017),\n",
              " ('ipad', 0.7389275431632996),\n",
              " ('iphone', 0.7355656027793884),\n",
              " ('f', 0.7285366654396057),\n",
              " ('ipod', 0.727858304977417),\n",
              " ('elephant', 0.7243888974189758),\n",
              " ('mp3', 0.7219675779342651),\n",
              " ('airplane', 0.7171599268913269),\n",
              " ('app', 0.7150890231132507)]"
            ]
          },
          "metadata": {},
          "execution_count": 33
        }
      ]
    },
    {
      "cell_type": "code",
      "source": [
        "fast_text_model.wv.most_similar(\"apple\")"
      ],
      "metadata": {
        "colab": {
          "base_uri": "https://localhost:8080/"
        },
        "id": "N0-4i2V7NItW",
        "outputId": "e9676b89-3364-406e-d0f1-fcb17eb31d70"
      },
      "execution_count": 34,
      "outputs": [
        {
          "output_type": "execute_result",
          "data": {
            "text/plain": [
              "[('pineapple', 0.9224739074707031),\n",
              " ('grapple', 0.9130294919013977),\n",
              " ('nipple', 0.8849395513534546),\n",
              " ('cripple', 0.880841076374054),\n",
              " ('temple', 0.870653510093689),\n",
              " ('app', 0.8558655977249146),\n",
              " ('purple', 0.8550805449485779),\n",
              " ('ripple', 0.8473930954933167),\n",
              " ('ample', 0.8458758592605591),\n",
              " ('triple', 0.8452322483062744)]"
            ]
          },
          "metadata": {},
          "execution_count": 34
        }
      ]
    },
    {
      "cell_type": "markdown",
      "source": [
        "Word2Vec에는 Typo가 있는 'appple'에 대해 OOV 문제가 발생하는 반면,   \n",
        "FastText는 기존의 apple과 동일한 유사도를 보이는 것을 확인할 수 있다"
      ],
      "metadata": {
        "id": "k_vzDd-mNkrs"
      }
    },
    {
      "cell_type": "code",
      "source": [
        "model.wv.most_similar(\"appple\")"
      ],
      "metadata": {
        "colab": {
          "base_uri": "https://localhost:8080/",
          "height": 300
        },
        "id": "bTQhld26NKsw",
        "outputId": "e84da617-3250-4877-ff23-b60a00907152"
      },
      "execution_count": 35,
      "outputs": [
        {
          "output_type": "error",
          "ename": "KeyError",
          "evalue": "\"Key 'appple' not present in vocabulary\"",
          "traceback": [
            "\u001b[0;31m---------------------------------------------------------------------------\u001b[0m",
            "\u001b[0;31mKeyError\u001b[0m                                  Traceback (most recent call last)",
            "\u001b[0;32m<ipython-input-35-74cf2da75e09>\u001b[0m in \u001b[0;36m<cell line: 1>\u001b[0;34m()\u001b[0m\n\u001b[0;32m----> 1\u001b[0;31m \u001b[0mmodel\u001b[0m\u001b[0;34m.\u001b[0m\u001b[0mwv\u001b[0m\u001b[0;34m.\u001b[0m\u001b[0mmost_similar\u001b[0m\u001b[0;34m(\u001b[0m\u001b[0;34m\"appple\"\u001b[0m\u001b[0;34m)\u001b[0m\u001b[0;34m\u001b[0m\u001b[0;34m\u001b[0m\u001b[0m\n\u001b[0m",
            "\u001b[0;32m/usr/local/lib/python3.10/dist-packages/gensim/models/keyedvectors.py\u001b[0m in \u001b[0;36mmost_similar\u001b[0;34m(self, positive, negative, topn, clip_start, clip_end, restrict_vocab, indexer)\u001b[0m\n\u001b[1;32m    839\u001b[0m \u001b[0;34m\u001b[0m\u001b[0m\n\u001b[1;32m    840\u001b[0m         \u001b[0;31m# compute the weighted average of all keys\u001b[0m\u001b[0;34m\u001b[0m\u001b[0;34m\u001b[0m\u001b[0m\n\u001b[0;32m--> 841\u001b[0;31m         \u001b[0mmean\u001b[0m \u001b[0;34m=\u001b[0m \u001b[0mself\u001b[0m\u001b[0;34m.\u001b[0m\u001b[0mget_mean_vector\u001b[0m\u001b[0;34m(\u001b[0m\u001b[0mkeys\u001b[0m\u001b[0;34m,\u001b[0m \u001b[0mweight\u001b[0m\u001b[0;34m,\u001b[0m \u001b[0mpre_normalize\u001b[0m\u001b[0;34m=\u001b[0m\u001b[0;32mTrue\u001b[0m\u001b[0;34m,\u001b[0m \u001b[0mpost_normalize\u001b[0m\u001b[0;34m=\u001b[0m\u001b[0;32mTrue\u001b[0m\u001b[0;34m,\u001b[0m \u001b[0mignore_missing\u001b[0m\u001b[0;34m=\u001b[0m\u001b[0;32mFalse\u001b[0m\u001b[0;34m)\u001b[0m\u001b[0;34m\u001b[0m\u001b[0;34m\u001b[0m\u001b[0m\n\u001b[0m\u001b[1;32m    842\u001b[0m         all_keys = [\n\u001b[1;32m    843\u001b[0m             \u001b[0mself\u001b[0m\u001b[0;34m.\u001b[0m\u001b[0mget_index\u001b[0m\u001b[0;34m(\u001b[0m\u001b[0mkey\u001b[0m\u001b[0;34m)\u001b[0m \u001b[0;32mfor\u001b[0m \u001b[0mkey\u001b[0m \u001b[0;32min\u001b[0m \u001b[0mkeys\u001b[0m \u001b[0;32mif\u001b[0m \u001b[0misinstance\u001b[0m\u001b[0;34m(\u001b[0m\u001b[0mkey\u001b[0m\u001b[0;34m,\u001b[0m \u001b[0m_KEY_TYPES\u001b[0m\u001b[0;34m)\u001b[0m \u001b[0;32mand\u001b[0m \u001b[0mself\u001b[0m\u001b[0;34m.\u001b[0m\u001b[0mhas_index_for\u001b[0m\u001b[0;34m(\u001b[0m\u001b[0mkey\u001b[0m\u001b[0;34m)\u001b[0m\u001b[0;34m\u001b[0m\u001b[0;34m\u001b[0m\u001b[0m\n",
            "\u001b[0;32m/usr/local/lib/python3.10/dist-packages/gensim/models/keyedvectors.py\u001b[0m in \u001b[0;36mget_mean_vector\u001b[0;34m(self, keys, weights, pre_normalize, post_normalize, ignore_missing)\u001b[0m\n\u001b[1;32m    516\u001b[0m                 \u001b[0mtotal_weight\u001b[0m \u001b[0;34m+=\u001b[0m \u001b[0mabs\u001b[0m\u001b[0;34m(\u001b[0m\u001b[0mweights\u001b[0m\u001b[0;34m[\u001b[0m\u001b[0midx\u001b[0m\u001b[0;34m]\u001b[0m\u001b[0;34m)\u001b[0m\u001b[0;34m\u001b[0m\u001b[0;34m\u001b[0m\u001b[0m\n\u001b[1;32m    517\u001b[0m             \u001b[0;32melif\u001b[0m \u001b[0;32mnot\u001b[0m \u001b[0mignore_missing\u001b[0m\u001b[0;34m:\u001b[0m\u001b[0;34m\u001b[0m\u001b[0;34m\u001b[0m\u001b[0m\n\u001b[0;32m--> 518\u001b[0;31m                 \u001b[0;32mraise\u001b[0m \u001b[0mKeyError\u001b[0m\u001b[0;34m(\u001b[0m\u001b[0;34mf\"Key '{key}' not present in vocabulary\"\u001b[0m\u001b[0;34m)\u001b[0m\u001b[0;34m\u001b[0m\u001b[0;34m\u001b[0m\u001b[0m\n\u001b[0m\u001b[1;32m    519\u001b[0m \u001b[0;34m\u001b[0m\u001b[0m\n\u001b[1;32m    520\u001b[0m         \u001b[0;32mif\u001b[0m \u001b[0mtotal_weight\u001b[0m \u001b[0;34m>\u001b[0m \u001b[0;36m0\u001b[0m\u001b[0;34m:\u001b[0m\u001b[0;34m\u001b[0m\u001b[0;34m\u001b[0m\u001b[0m\n",
            "\u001b[0;31mKeyError\u001b[0m: \"Key 'appple' not present in vocabulary\""
          ]
        }
      ]
    },
    {
      "cell_type": "code",
      "source": [
        "fast_text_model.wv.most_similar(\"apple\")"
      ],
      "metadata": {
        "colab": {
          "base_uri": "https://localhost:8080/"
        },
        "id": "lh7wJ0QANivC",
        "outputId": "35b5284e-96cc-407f-c66b-0ac94481ac23"
      },
      "execution_count": 36,
      "outputs": [
        {
          "output_type": "execute_result",
          "data": {
            "text/plain": [
              "[('pineapple', 0.9224739074707031),\n",
              " ('grapple', 0.9130294919013977),\n",
              " ('nipple', 0.8849395513534546),\n",
              " ('cripple', 0.880841076374054),\n",
              " ('temple', 0.870653510093689),\n",
              " ('app', 0.8558655977249146),\n",
              " ('purple', 0.8550805449485779),\n",
              " ('ripple', 0.8473930954933167),\n",
              " ('ample', 0.8458758592605591),\n",
              " ('triple', 0.8452322483062744)]"
            ]
          },
          "metadata": {},
          "execution_count": 36
        }
      ]
    },
    {
      "cell_type": "markdown",
      "source": [
        "## 자모 단위 한국어 FastText 학습"
      ],
      "metadata": {
        "id": "3nHhfQR1Opw3"
      }
    },
    {
      "cell_type": "code",
      "source": [
        "# 이것저것 다 시도해봤는데 Colab에서는 이렇게 하면 Mecab 오류가 발생하지 않음\n",
        "!git clone https://github.com/SOMJANG/Mecab-ko-for-Google-Colab.git\n",
        "%cd Mecab-ko-for-Google-Colab\n",
        "!bash install_mecab-ko_on_colab_light_220429.sh\n",
        "\n",
        "from konlpy.tag import Mecab\n",
        "mecab = Mecab()"
      ],
      "metadata": {
        "id": "xBoFw4xiZOSf"
      },
      "execution_count": null,
      "outputs": []
    },
    {
      "cell_type": "code",
      "source": [
        "!pip install hgtk # 한글 자모 단위 처리 패키지 hgtk 설치"
      ],
      "metadata": {
        "id": "1laFj1NWOyn2"
      },
      "execution_count": null,
      "outputs": []
    },
    {
      "cell_type": "code",
      "source": [
        "# fasttext 설 치\n",
        "!git clone https://github.com/facebookresearch/fastText.git\n",
        "%cd fastText\n",
        "!make\n",
        "!pip install ."
      ],
      "metadata": {
        "id": "LruhPGcCO80g"
      },
      "execution_count": null,
      "outputs": []
    },
    {
      "cell_type": "code",
      "source": [
        "import re\n",
        "import pandas as pd\n",
        "import urllib.request\n",
        "from tqdm import tqdm\n",
        "import hgtk\n",
        "from konlpy.tag import Mecab\n",
        "\n",
        "# 네이버 쇼핑 리뷰 데이터 로드\n",
        "urllib.request.urlretrieve(\"https://raw.githubusercontent.com/bab2min/corpus/master/sentiment/naver_shopping.txt\", filename=\"ratings_total.txt\")"
      ],
      "metadata": {
        "colab": {
          "base_uri": "https://localhost:8080/"
        },
        "id": "BIpDrQDcPFxi",
        "outputId": "3dca03dd-9867-4f4e-89c9-d292f6f60e90"
      },
      "execution_count": 6,
      "outputs": [
        {
          "output_type": "execute_result",
          "data": {
            "text/plain": [
              "('ratings_total.txt', <http.client.HTTPMessage at 0x790c4bd463b0>)"
            ]
          },
          "metadata": {},
          "execution_count": 6
        }
      ]
    },
    {
      "cell_type": "code",
      "source": [
        "total_data = pd.read_table('ratings_total.txt', names=['ratings', 'reviews'])\n",
        "print('전체 리뷰 개수 :',len(total_data))"
      ],
      "metadata": {
        "colab": {
          "base_uri": "https://localhost:8080/"
        },
        "id": "BPJ4NgSEPmbP",
        "outputId": "bf87ca30-8d11-4ffc-dd4d-c2caf03b4da6"
      },
      "execution_count": 7,
      "outputs": [
        {
          "output_type": "stream",
          "name": "stdout",
          "text": [
            "전체 리뷰 개수 : 200000\n"
          ]
        }
      ]
    },
    {
      "cell_type": "code",
      "source": [
        "total_data.head()"
      ],
      "metadata": {
        "colab": {
          "base_uri": "https://localhost:8080/",
          "height": 206
        },
        "id": "i38rR_d4PyJ1",
        "outputId": "35467ba3-8500-4d7a-bcd1-c7fa795b7ab8"
      },
      "execution_count": 8,
      "outputs": [
        {
          "output_type": "execute_result",
          "data": {
            "text/plain": [
              "   ratings                                            reviews\n",
              "0        5                                            배공빠르고 굿\n",
              "1        2                      택배가 엉망이네용 저희집 밑에층에 말도없이 놔두고가고\n",
              "2        5  아주좋아요 바지 정말 좋아서2개 더 구매했어요 이가격에 대박입니다. 바느질이 조금 ...\n",
              "3        2  선물용으로 빨리 받아서 전달했어야 하는 상품이었는데 머그컵만 와서 당황했습니다. 전...\n",
              "4        5                  민트색상 예뻐요. 옆 손잡이는 거는 용도로도 사용되네요 ㅎㅎ"
            ],
            "text/html": [
              "\n",
              "  <div id=\"df-76a5161f-f59c-4ad2-9ffa-17c150c7e6f1\" class=\"colab-df-container\">\n",
              "    <div>\n",
              "<style scoped>\n",
              "    .dataframe tbody tr th:only-of-type {\n",
              "        vertical-align: middle;\n",
              "    }\n",
              "\n",
              "    .dataframe tbody tr th {\n",
              "        vertical-align: top;\n",
              "    }\n",
              "\n",
              "    .dataframe thead th {\n",
              "        text-align: right;\n",
              "    }\n",
              "</style>\n",
              "<table border=\"1\" class=\"dataframe\">\n",
              "  <thead>\n",
              "    <tr style=\"text-align: right;\">\n",
              "      <th></th>\n",
              "      <th>ratings</th>\n",
              "      <th>reviews</th>\n",
              "    </tr>\n",
              "  </thead>\n",
              "  <tbody>\n",
              "    <tr>\n",
              "      <th>0</th>\n",
              "      <td>5</td>\n",
              "      <td>배공빠르고 굿</td>\n",
              "    </tr>\n",
              "    <tr>\n",
              "      <th>1</th>\n",
              "      <td>2</td>\n",
              "      <td>택배가 엉망이네용 저희집 밑에층에 말도없이 놔두고가고</td>\n",
              "    </tr>\n",
              "    <tr>\n",
              "      <th>2</th>\n",
              "      <td>5</td>\n",
              "      <td>아주좋아요 바지 정말 좋아서2개 더 구매했어요 이가격에 대박입니다. 바느질이 조금 ...</td>\n",
              "    </tr>\n",
              "    <tr>\n",
              "      <th>3</th>\n",
              "      <td>2</td>\n",
              "      <td>선물용으로 빨리 받아서 전달했어야 하는 상품이었는데 머그컵만 와서 당황했습니다. 전...</td>\n",
              "    </tr>\n",
              "    <tr>\n",
              "      <th>4</th>\n",
              "      <td>5</td>\n",
              "      <td>민트색상 예뻐요. 옆 손잡이는 거는 용도로도 사용되네요 ㅎㅎ</td>\n",
              "    </tr>\n",
              "  </tbody>\n",
              "</table>\n",
              "</div>\n",
              "    <div class=\"colab-df-buttons\">\n",
              "\n",
              "  <div class=\"colab-df-container\">\n",
              "    <button class=\"colab-df-convert\" onclick=\"convertToInteractive('df-76a5161f-f59c-4ad2-9ffa-17c150c7e6f1')\"\n",
              "            title=\"Convert this dataframe to an interactive table.\"\n",
              "            style=\"display:none;\">\n",
              "\n",
              "  <svg xmlns=\"http://www.w3.org/2000/svg\" height=\"24px\" viewBox=\"0 -960 960 960\">\n",
              "    <path d=\"M120-120v-720h720v720H120Zm60-500h600v-160H180v160Zm220 220h160v-160H400v160Zm0 220h160v-160H400v160ZM180-400h160v-160H180v160Zm440 0h160v-160H620v160ZM180-180h160v-160H180v160Zm440 0h160v-160H620v160Z\"/>\n",
              "  </svg>\n",
              "    </button>\n",
              "\n",
              "  <style>\n",
              "    .colab-df-container {\n",
              "      display:flex;\n",
              "      gap: 12px;\n",
              "    }\n",
              "\n",
              "    .colab-df-convert {\n",
              "      background-color: #E8F0FE;\n",
              "      border: none;\n",
              "      border-radius: 50%;\n",
              "      cursor: pointer;\n",
              "      display: none;\n",
              "      fill: #1967D2;\n",
              "      height: 32px;\n",
              "      padding: 0 0 0 0;\n",
              "      width: 32px;\n",
              "    }\n",
              "\n",
              "    .colab-df-convert:hover {\n",
              "      background-color: #E2EBFA;\n",
              "      box-shadow: 0px 1px 2px rgba(60, 64, 67, 0.3), 0px 1px 3px 1px rgba(60, 64, 67, 0.15);\n",
              "      fill: #174EA6;\n",
              "    }\n",
              "\n",
              "    .colab-df-buttons div {\n",
              "      margin-bottom: 4px;\n",
              "    }\n",
              "\n",
              "    [theme=dark] .colab-df-convert {\n",
              "      background-color: #3B4455;\n",
              "      fill: #D2E3FC;\n",
              "    }\n",
              "\n",
              "    [theme=dark] .colab-df-convert:hover {\n",
              "      background-color: #434B5C;\n",
              "      box-shadow: 0px 1px 3px 1px rgba(0, 0, 0, 0.15);\n",
              "      filter: drop-shadow(0px 1px 2px rgba(0, 0, 0, 0.3));\n",
              "      fill: #FFFFFF;\n",
              "    }\n",
              "  </style>\n",
              "\n",
              "    <script>\n",
              "      const buttonEl =\n",
              "        document.querySelector('#df-76a5161f-f59c-4ad2-9ffa-17c150c7e6f1 button.colab-df-convert');\n",
              "      buttonEl.style.display =\n",
              "        google.colab.kernel.accessAllowed ? 'block' : 'none';\n",
              "\n",
              "      async function convertToInteractive(key) {\n",
              "        const element = document.querySelector('#df-76a5161f-f59c-4ad2-9ffa-17c150c7e6f1');\n",
              "        const dataTable =\n",
              "          await google.colab.kernel.invokeFunction('convertToInteractive',\n",
              "                                                    [key], {});\n",
              "        if (!dataTable) return;\n",
              "\n",
              "        const docLinkHtml = 'Like what you see? Visit the ' +\n",
              "          '<a target=\"_blank\" href=https://colab.research.google.com/notebooks/data_table.ipynb>data table notebook</a>'\n",
              "          + ' to learn more about interactive tables.';\n",
              "        element.innerHTML = '';\n",
              "        dataTable['output_type'] = 'display_data';\n",
              "        await google.colab.output.renderOutput(dataTable, element);\n",
              "        const docLink = document.createElement('div');\n",
              "        docLink.innerHTML = docLinkHtml;\n",
              "        element.appendChild(docLink);\n",
              "      }\n",
              "    </script>\n",
              "  </div>\n",
              "\n",
              "\n",
              "<div id=\"df-757d07f1-79a2-40f0-8562-3ee2433acd35\">\n",
              "  <button class=\"colab-df-quickchart\" onclick=\"quickchart('df-757d07f1-79a2-40f0-8562-3ee2433acd35')\"\n",
              "            title=\"Suggest charts\"\n",
              "            style=\"display:none;\">\n",
              "\n",
              "<svg xmlns=\"http://www.w3.org/2000/svg\" height=\"24px\"viewBox=\"0 0 24 24\"\n",
              "     width=\"24px\">\n",
              "    <g>\n",
              "        <path d=\"M19 3H5c-1.1 0-2 .9-2 2v14c0 1.1.9 2 2 2h14c1.1 0 2-.9 2-2V5c0-1.1-.9-2-2-2zM9 17H7v-7h2v7zm4 0h-2V7h2v10zm4 0h-2v-4h2v4z\"/>\n",
              "    </g>\n",
              "</svg>\n",
              "  </button>\n",
              "\n",
              "<style>\n",
              "  .colab-df-quickchart {\n",
              "      --bg-color: #E8F0FE;\n",
              "      --fill-color: #1967D2;\n",
              "      --hover-bg-color: #E2EBFA;\n",
              "      --hover-fill-color: #174EA6;\n",
              "      --disabled-fill-color: #AAA;\n",
              "      --disabled-bg-color: #DDD;\n",
              "  }\n",
              "\n",
              "  [theme=dark] .colab-df-quickchart {\n",
              "      --bg-color: #3B4455;\n",
              "      --fill-color: #D2E3FC;\n",
              "      --hover-bg-color: #434B5C;\n",
              "      --hover-fill-color: #FFFFFF;\n",
              "      --disabled-bg-color: #3B4455;\n",
              "      --disabled-fill-color: #666;\n",
              "  }\n",
              "\n",
              "  .colab-df-quickchart {\n",
              "    background-color: var(--bg-color);\n",
              "    border: none;\n",
              "    border-radius: 50%;\n",
              "    cursor: pointer;\n",
              "    display: none;\n",
              "    fill: var(--fill-color);\n",
              "    height: 32px;\n",
              "    padding: 0;\n",
              "    width: 32px;\n",
              "  }\n",
              "\n",
              "  .colab-df-quickchart:hover {\n",
              "    background-color: var(--hover-bg-color);\n",
              "    box-shadow: 0 1px 2px rgba(60, 64, 67, 0.3), 0 1px 3px 1px rgba(60, 64, 67, 0.15);\n",
              "    fill: var(--button-hover-fill-color);\n",
              "  }\n",
              "\n",
              "  .colab-df-quickchart-complete:disabled,\n",
              "  .colab-df-quickchart-complete:disabled:hover {\n",
              "    background-color: var(--disabled-bg-color);\n",
              "    fill: var(--disabled-fill-color);\n",
              "    box-shadow: none;\n",
              "  }\n",
              "\n",
              "  .colab-df-spinner {\n",
              "    border: 2px solid var(--fill-color);\n",
              "    border-color: transparent;\n",
              "    border-bottom-color: var(--fill-color);\n",
              "    animation:\n",
              "      spin 1s steps(1) infinite;\n",
              "  }\n",
              "\n",
              "  @keyframes spin {\n",
              "    0% {\n",
              "      border-color: transparent;\n",
              "      border-bottom-color: var(--fill-color);\n",
              "      border-left-color: var(--fill-color);\n",
              "    }\n",
              "    20% {\n",
              "      border-color: transparent;\n",
              "      border-left-color: var(--fill-color);\n",
              "      border-top-color: var(--fill-color);\n",
              "    }\n",
              "    30% {\n",
              "      border-color: transparent;\n",
              "      border-left-color: var(--fill-color);\n",
              "      border-top-color: var(--fill-color);\n",
              "      border-right-color: var(--fill-color);\n",
              "    }\n",
              "    40% {\n",
              "      border-color: transparent;\n",
              "      border-right-color: var(--fill-color);\n",
              "      border-top-color: var(--fill-color);\n",
              "    }\n",
              "    60% {\n",
              "      border-color: transparent;\n",
              "      border-right-color: var(--fill-color);\n",
              "    }\n",
              "    80% {\n",
              "      border-color: transparent;\n",
              "      border-right-color: var(--fill-color);\n",
              "      border-bottom-color: var(--fill-color);\n",
              "    }\n",
              "    90% {\n",
              "      border-color: transparent;\n",
              "      border-bottom-color: var(--fill-color);\n",
              "    }\n",
              "  }\n",
              "</style>\n",
              "\n",
              "  <script>\n",
              "    async function quickchart(key) {\n",
              "      const quickchartButtonEl =\n",
              "        document.querySelector('#' + key + ' button');\n",
              "      quickchartButtonEl.disabled = true;  // To prevent multiple clicks.\n",
              "      quickchartButtonEl.classList.add('colab-df-spinner');\n",
              "      try {\n",
              "        const charts = await google.colab.kernel.invokeFunction(\n",
              "            'suggestCharts', [key], {});\n",
              "      } catch (error) {\n",
              "        console.error('Error during call to suggestCharts:', error);\n",
              "      }\n",
              "      quickchartButtonEl.classList.remove('colab-df-spinner');\n",
              "      quickchartButtonEl.classList.add('colab-df-quickchart-complete');\n",
              "    }\n",
              "    (() => {\n",
              "      let quickchartButtonEl =\n",
              "        document.querySelector('#df-757d07f1-79a2-40f0-8562-3ee2433acd35 button');\n",
              "      quickchartButtonEl.style.display =\n",
              "        google.colab.kernel.accessAllowed ? 'block' : 'none';\n",
              "    })();\n",
              "  </script>\n",
              "</div>\n",
              "\n",
              "    </div>\n",
              "  </div>\n"
            ],
            "application/vnd.google.colaboratory.intrinsic+json": {
              "type": "dataframe",
              "variable_name": "total_data"
            }
          },
          "metadata": {},
          "execution_count": 8
        }
      ]
    },
    {
      "cell_type": "code",
      "source": [
        "def word_to_jamo(token):\n",
        "  def to_special_token(jamo):\n",
        "    if not jamo:\n",
        "      return '-'\n",
        "    else:\n",
        "      return jamo\n",
        "\n",
        "  decomposed_token = ''\n",
        "  for char in token:\n",
        "    try:\n",
        "      # char(음절)을 초성, 중성, 종성으로 분리\n",
        "      cho, jung, jong = hgtk.letter.decompose(char)\n",
        "      # 자모가 빈 문자일 경우 특수 문자 -로 대체\n",
        "      cho = to_special_token(cho)\n",
        "      jung = to_special_token(jung)\n",
        "      jong = to_special_token(jong)\n",
        "      decomposed_token = decomposed_token + cho + jung + jong\n",
        "\n",
        "    # 만약 char(음절)이 한글이 아닐 경우 자모를 나누지 않고 추가\n",
        "    except Exception as exception:\n",
        "      if type(exception).__name__ == 'NotHangulException':\n",
        "        decomposed_token += char\n",
        "\n",
        "  # 단어 토큰의 자모 단위 분리 결과를 추가\n",
        "  return decomposed_token"
      ],
      "metadata": {
        "id": "jvIkRQV3QA-7"
      },
      "execution_count": 9,
      "outputs": []
    },
    {
      "cell_type": "code",
      "source": [
        "word_to_jamo('남동생')"
      ],
      "metadata": {
        "colab": {
          "base_uri": "https://localhost:8080/",
          "height": 35
        },
        "id": "UlMvzrUwQoGc",
        "outputId": "ff3c5706-556d-4944-b20a-93add2f33ec5"
      },
      "execution_count": 10,
      "outputs": [
        {
          "output_type": "execute_result",
          "data": {
            "text/plain": [
              "'ㄴㅏㅁㄷㅗㅇㅅㅐㅇ'"
            ],
            "application/vnd.google.colaboratory.intrinsic+json": {
              "type": "string"
            }
          },
          "metadata": {},
          "execution_count": 10
        }
      ]
    },
    {
      "cell_type": "code",
      "source": [
        "word_to_jamo('여동생') # '여'에 종성이 없어서 -가 들어간 것을 확인 가능"
      ],
      "metadata": {
        "colab": {
          "base_uri": "https://localhost:8080/",
          "height": 35
        },
        "id": "RMTV6t9xQrQ8",
        "outputId": "33f22d71-de0c-4dd8-9892-877db319ca48"
      },
      "execution_count": 11,
      "outputs": [
        {
          "output_type": "execute_result",
          "data": {
            "text/plain": [
              "'ㅇㅕ-ㄷㅗㅇㅅㅐㅇ'"
            ],
            "application/vnd.google.colaboratory.intrinsic+json": {
              "type": "string"
            }
          },
          "metadata": {},
          "execution_count": 11
        }
      ]
    },
    {
      "cell_type": "code",
      "source": [
        "test_sentence = \"선물용으로 빨리 받아서 전달했어야 하는 상품이었는데 머그컵만 와서 당황했습니다.\"\n",
        "\n",
        "mecab = Mecab() # 형태소 분석기\n",
        "print(\"단순 형태소 분석 결과 :\", mecab.morphs(test_sentence))\n",
        "\n",
        "def tokenize_by_jamo(s):\n",
        "  return [word_to_jamo(token) for token in mecab.morphs(s)]\n",
        "\n",
        "print(\"형태소 분석 + 자모 분해 :\", tokenize_by_jamo(test_sentence))"
      ],
      "metadata": {
        "colab": {
          "base_uri": "https://localhost:8080/"
        },
        "id": "xoq0PtxwSus7",
        "outputId": "3be20632-1b16-4217-e2d4-2efaf1f406da"
      },
      "execution_count": 12,
      "outputs": [
        {
          "output_type": "stream",
          "name": "stdout",
          "text": [
            "단순 형태소 분석 결과 : ['선물', '용', '으로', '빨리', '받', '아서', '전달', '했어야', '하', '는', '상품', '이', '었', '는데', '머그', '컵', '만', '와서', '당황', '했', '습니다', '.']\n",
            "형태소 분석 + 자모 분해 : ['ㅅㅓㄴㅁㅜㄹ', 'ㅇㅛㅇ', 'ㅇㅡ-ㄹㅗ-', 'ㅃㅏㄹㄹㅣ-', 'ㅂㅏㄷ', 'ㅇㅏ-ㅅㅓ-', 'ㅈㅓㄴㄷㅏㄹ', 'ㅎㅐㅆㅇㅓ-ㅇㅑ-', 'ㅎㅏ-', 'ㄴㅡㄴ', 'ㅅㅏㅇㅍㅜㅁ', 'ㅇㅣ-', 'ㅇㅓㅆ', 'ㄴㅡㄴㄷㅔ-', 'ㅁㅓ-ㄱㅡ-', 'ㅋㅓㅂ', 'ㅁㅏㄴ', 'ㅇㅘ-ㅅㅓ-', 'ㄷㅏㅇㅎㅘㅇ', 'ㅎㅐㅆ', 'ㅅㅡㅂㄴㅣ-ㄷㅏ-', '.']\n"
          ]
        }
      ]
    },
    {
      "cell_type": "code",
      "source": [
        "tokenized_data = []\n",
        "\n",
        "for sample in tqdm(total_data['reviews'].to_list()):\n",
        "  tokenized_sample = tokenize_by_jamo(sample) # 자모 단위로 분해\n",
        "  tokenized_data.append(tokenized_sample)\n",
        "\n",
        "print(tokenized_data[0])"
      ],
      "metadata": {
        "colab": {
          "base_uri": "https://localhost:8080/"
        },
        "id": "gVwUAn07WW3O",
        "outputId": "0bdb5318-b949-47e8-d839-aa481e42f227"
      },
      "execution_count": 13,
      "outputs": [
        {
          "output_type": "stream",
          "name": "stderr",
          "text": [
            "100%|██████████| 200000/200000 [01:02<00:00, 3190.28it/s]"
          ]
        },
        {
          "output_type": "stream",
          "name": "stdout",
          "text": [
            "['ㅂㅐ-ㄱㅗㅇ', 'ㅃㅏ-ㄹㅡ-', 'ㄱㅗ-', 'ㄱㅜㅅ']\n"
          ]
        },
        {
          "output_type": "stream",
          "name": "stderr",
          "text": [
            "\n"
          ]
        }
      ]
    },
    {
      "cell_type": "code",
      "source": [
        "def jamo_to_word(jamo_sequence):\n",
        "  tokenized_jamo = []\n",
        "  index = 0\n",
        "\n",
        "  # 1. 초기 입력\n",
        "  # jamo_sequence = 'ㄴㅏㅁㄷㅗㅇㅅㅐㅇ'\n",
        "\n",
        "  while index < len(jamo_sequence):\n",
        "    # 문자가 한글(정상적인 자모)가 아닐 때\n",
        "    if not hgtk.checker.is_hangul(jamo_sequence[index]):\n",
        "      tokenized_jamo.append(jamo_sequence[index])\n",
        "      index = index + 1\n",
        "\n",
        "    # 문자가 정상적인 자모라면, 초중종성을 하나의 토큰으로 간주\n",
        "    else:\n",
        "      tokenized_jamo.append(jamo_sequence[index:index+3])\n",
        "      index = index + 3\n",
        "\n",
        "  # 2. 자모 단위 토큰화 완료\n",
        "  # tokenized_jamo : ['ㄴㅏㅁ', 'ㄷㅗㅇ', 'ㅅㅐㅇ']\n",
        "\n",
        "  word = ''\n",
        "  try:\n",
        "    for jamo in tokenized_jamo:\n",
        "      # 초, 중, 종성이 다 있는 경우\n",
        "      if len(jamo) == 3:\n",
        "        if jamo[2] == '-':\n",
        "          # 종성이 없는 경우\n",
        "          word = word + hgtk.letter.compose(jamo[0], jamo[1])\n",
        "        else:\n",
        "          # 종성이 있는 경우\n",
        "          word = word + hgtk.letter.compose(jamo[0], jamo[1], jamo[2])\n",
        "      # 한글이 아닌 경우\n",
        "      else:\n",
        "        word = word + jamo\n",
        "  except Exception as exception:\n",
        "    if type(exception).__name__ == 'NotHangulException':\n",
        "      return jamo_sequence\n",
        "\n",
        "  # 3. 단어로 복원 완료\n",
        "  # word : '남동생'\n",
        "  return word"
      ],
      "metadata": {
        "id": "wNUG7yEibhcg"
      },
      "execution_count": 14,
      "outputs": []
    },
    {
      "cell_type": "code",
      "source": [
        "jamo_to_word('ㄴㅏㅁㄷㅗㅇㅅㅐㅇ')"
      ],
      "metadata": {
        "colab": {
          "base_uri": "https://localhost:8080/",
          "height": 35
        },
        "id": "MUYwXPmMdAzg",
        "outputId": "d964f905-a3aa-4f80-c733-71c7fe42af31"
      },
      "execution_count": 15,
      "outputs": [
        {
          "output_type": "execute_result",
          "data": {
            "text/plain": [
              "'남동생'"
            ],
            "application/vnd.google.colaboratory.intrinsic+json": {
              "type": "string"
            }
          },
          "metadata": {},
          "execution_count": 15
        }
      ]
    },
    {
      "cell_type": "code",
      "source": [
        "import fasttext\n",
        "\n",
        "with open('tokenized_data.txt', 'w') as out:\n",
        "  for line in tqdm(tokenized_data, unit=' line'):\n",
        "    out.write(' '.join(line) + '\\n')"
      ],
      "metadata": {
        "colab": {
          "base_uri": "https://localhost:8080/"
        },
        "id": "N9w7emOrdF2F",
        "outputId": "1e51c050-4aa0-4400-891c-00c42713b9a6"
      },
      "execution_count": 16,
      "outputs": [
        {
          "output_type": "stream",
          "name": "stderr",
          "text": [
            "100%|██████████| 200000/200000 [00:01<00:00, 197692.72 line/s]\n"
          ]
        }
      ]
    },
    {
      "cell_type": "code",
      "source": [
        "model = fasttext.train_unsupervised('tokenized_data.txt', model='cbow')\n",
        "model.save_model(\"fasttext.bin\")            # 모델 저장\n",
        "model = fasttext.load_model(\"fasttext.bin\") # 모델 로드"
      ],
      "metadata": {
        "id": "24Ds8_d0dOqE"
      },
      "execution_count": 17,
      "outputs": []
    },
    {
      "cell_type": "code",
      "source": [
        "model[word_to_jamo('남동생')] # 실제로는 'ㄴㅏㅁㄷㅗㅇㅅㅐㅇ'이라는 입력"
      ],
      "metadata": {
        "colab": {
          "base_uri": "https://localhost:8080/"
        },
        "id": "HbILfagrdRiy",
        "outputId": "730e15c6-fa8a-4852-fa84-ad2650f39e25"
      },
      "execution_count": 18,
      "outputs": [
        {
          "output_type": "execute_result",
          "data": {
            "text/plain": [
              "array([-0.06107997,  0.6434101 ,  0.20715   ,  0.29333124,  0.7893051 ,\n",
              "       -0.40490672,  0.6929343 , -0.44864348, -0.24650103, -0.20013273,\n",
              "        0.30655596,  0.18253864, -0.7267484 , -0.00349172,  0.4574451 ,\n",
              "       -0.23841374,  0.29909563,  0.19065087, -0.6804761 , -0.5404831 ,\n",
              "       -0.06967576, -0.8608843 ,  0.8253546 , -0.22332686, -1.0310053 ,\n",
              "       -0.6039053 ,  0.8116493 ,  0.20559157,  0.3903545 ,  1.0808167 ,\n",
              "        0.41745734, -0.06997378, -0.05163563,  0.41713077,  0.527806  ,\n",
              "       -0.30835825,  0.31510252, -0.50626683, -0.01788406, -0.19891815,\n",
              "        0.83161736,  0.6717083 , -0.48440403,  1.0042284 , -0.11523026,\n",
              "        0.11539069,  0.81462663, -0.09036586, -0.73975825, -0.2623649 ,\n",
              "        0.12626076,  0.406552  , -0.10470987,  0.3460048 , -0.5163345 ,\n",
              "       -0.24508008,  0.18592907, -0.39331028,  0.25789505,  0.0759757 ,\n",
              "        0.35949537,  0.05539207,  0.9095674 ,  0.5652896 , -0.3367405 ,\n",
              "       -0.63889617, -0.74739826, -0.3096703 , -0.45060015, -0.79241693,\n",
              "        0.7727086 , -1.0591294 , -0.11530162, -0.9526434 ,  0.3916455 ,\n",
              "        0.83939505,  0.00815666,  0.52645713, -0.1888559 ,  0.02149859,\n",
              "        1.6182606 ,  0.07489514,  0.49548456, -0.17182513,  0.66174966,\n",
              "        0.1492481 , -0.8130228 ,  0.12012316,  0.63755137, -0.5621619 ,\n",
              "       -0.38243204, -0.29187274,  0.7792168 , -0.6896228 ,  0.768743  ,\n",
              "        0.43654963, -0.33639973, -0.44210675,  0.43478274,  0.5204092 ],\n",
              "      dtype=float32)"
            ]
          },
          "metadata": {},
          "execution_count": 18
        }
      ]
    },
    {
      "cell_type": "code",
      "source": [
        "model.get_nearest_neighbors(word_to_jamo('남동생'), k=10)"
      ],
      "metadata": {
        "colab": {
          "base_uri": "https://localhost:8080/"
        },
        "id": "4RR5ZIcjddgV",
        "outputId": "4aa38a8f-cef4-45f0-b3af-2fe53c12b0cc"
      },
      "execution_count": 20,
      "outputs": [
        {
          "output_type": "execute_result",
          "data": {
            "text/plain": [
              "[(0.8896892666816711, 'ㄷㅗㅇㅅㅐㅇ'),\n",
              " (0.8556913733482361, 'ㄴㅏㅁㅊㅣㄴ'),\n",
              " (0.7981497049331665, 'ㄴㅏㅁㅍㅕㄴ'),\n",
              " (0.7781562805175781, 'ㅊㅣㄴㄱㅜ-'),\n",
              " (0.7702001929283142, 'ㅅㅐㅇㅇㅣㄹ'),\n",
              " (0.7277362942695618, 'ㅈㅗ-ㅋㅏ-'),\n",
              " (0.7170624136924744, 'ㄴㅏㅁㅇㅏ-'),\n",
              " (0.712027907371521, 'ㅎㅏㄱㅅㅐㅇ'),\n",
              " (0.7095516324043274, 'ㅈㅜㅇㅎㅏㄱㅅㅐㅇ'),\n",
              " (0.6981350183486938, 'ㅇㅓㄴㄴㅣ-')]"
            ]
          },
          "metadata": {},
          "execution_count": 20
        }
      ]
    },
    {
      "cell_type": "code",
      "source": [
        "def transform(word_sequence):\n",
        "  return [(jamo_to_word(word), similarity) for (similarity, word) in word_sequence]"
      ],
      "metadata": {
        "id": "s_hOzl6edfL_"
      },
      "execution_count": 21,
      "outputs": []
    },
    {
      "cell_type": "code",
      "source": [
        "print(transform(model.get_nearest_neighbors(word_to_jamo('남동생'), k=10)))"
      ],
      "metadata": {
        "colab": {
          "base_uri": "https://localhost:8080/"
        },
        "id": "6sULR1gWdhYv",
        "outputId": "3bfaab75-f456-43fe-ce4b-815771171b23"
      },
      "execution_count": 22,
      "outputs": [
        {
          "output_type": "stream",
          "name": "stdout",
          "text": [
            "[('동생', 0.8896892666816711), ('남친', 0.8556913733482361), ('남편', 0.7981497049331665), ('친구', 0.7781562805175781), ('생일', 0.7702001929283142), ('조카', 0.7277362942695618), ('남아', 0.7170624136924744), ('학생', 0.712027907371521), ('중학생', 0.7095516324043274), ('언니', 0.6981350183486938)]\n"
          ]
        }
      ]
    },
    {
      "cell_type": "code",
      "source": [
        "print(transform(model.get_nearest_neighbors(word_to_jamo('남동쉥'), k=10)))"
      ],
      "metadata": {
        "colab": {
          "base_uri": "https://localhost:8080/"
        },
        "id": "04_owF-adiX4",
        "outputId": "55b0d3e7-3a66-48c4-da3e-5b306211c5bc"
      },
      "execution_count": 23,
      "outputs": [
        {
          "output_type": "stream",
          "name": "stdout",
          "text": [
            "[('남동생', 0.9047474265098572), ('남친', 0.8278025984764099), ('남매', 0.7707632780075073), ('남짓', 0.7279080748558044), ('남녀', 0.7082976698875427), ('남아', 0.7055363655090332), ('남김', 0.6959303617477417), ('남긴', 0.6883314251899719), ('남여', 0.6816936135292053), ('남편', 0.680534303188324)]\n"
          ]
        }
      ]
    },
    {
      "cell_type": "code",
      "source": [
        "print(transform(model.get_nearest_neighbors(word_to_jamo('남동셍ㅋ'), k=10)))"
      ],
      "metadata": {
        "colab": {
          "base_uri": "https://localhost:8080/"
        },
        "id": "aB5Z8octdljK",
        "outputId": "d3b45406-7153-4d1c-8b10-2c1e71e5ddbc"
      },
      "execution_count": 24,
      "outputs": [
        {
          "output_type": "stream",
          "name": "stdout",
          "text": [
            "[('남동생', 0.8317911028862), ('남친', 0.7488435506820679), ('남아', 0.6314992308616638), ('남짓', 0.629278838634491), ('동생', 0.6279979944229126), ('남녀', 0.61879563331604), ('남매', 0.6171734929084778), ('남김', 0.6137759685516357), ('남여', 0.6029059886932373), ('생일', 0.601040780544281)]\n"
          ]
        }
      ]
    },
    {
      "cell_type": "code",
      "source": [
        "print(transform(model.get_nearest_neighbors(word_to_jamo('난동생'), k=10)))"
      ],
      "metadata": {
        "colab": {
          "base_uri": "https://localhost:8080/"
        },
        "id": "Zq-f_HQQdqtF",
        "outputId": "ab5f5f18-8e3e-4c38-8e41-435f2efc3874"
      },
      "execution_count": 25,
      "outputs": [
        {
          "output_type": "stream",
          "name": "stdout",
          "text": [
            "[('남동생', 0.8642020225524902), ('난생', 0.832841694355011), ('남편', 0.8116939067840576), ('남친', 0.7826412320137024), ('동생', 0.7780384421348572), ('남아', 0.7360055446624756), ('중학생', 0.7287946343421936), ('남매', 0.7133886218070984), ('학생', 0.7039417028427124), ('남자', 0.6721429228782654)]\n"
          ]
        }
      ]
    },
    {
      "cell_type": "code",
      "source": [
        "print(transform(model.get_nearest_neighbors(word_to_jamo('낫동생'), k=10)))"
      ],
      "metadata": {
        "colab": {
          "base_uri": "https://localhost:8080/"
        },
        "id": "dLTN9_LgdsPr",
        "outputId": "ab3498b1-6621-499b-d200-4a1593b0eb83"
      },
      "execution_count": 26,
      "outputs": [
        {
          "output_type": "stream",
          "name": "stdout",
          "text": [
            "[('남동생', 0.929941713809967), ('동생', 0.8905754685401917), ('남편', 0.7983264923095703), ('남친', 0.7660068869590759), ('친구', 0.7500053644180298), ('중학생', 0.7456657886505127), ('학생', 0.7277404069900513), ('난생', 0.7130797505378723), ('조카', 0.7127023339271545), ('생일', 0.7112838625907898)]\n"
          ]
        }
      ]
    },
    {
      "cell_type": "code",
      "source": [
        "print(transform(model.get_nearest_neighbors(word_to_jamo('납동생'), k=10)))"
      ],
      "metadata": {
        "colab": {
          "base_uri": "https://localhost:8080/"
        },
        "id": "gaBfHnKmduCJ",
        "outputId": "86808e2f-1505-4217-b6b1-986618dad2bc"
      },
      "execution_count": 27,
      "outputs": [
        {
          "output_type": "stream",
          "name": "stdout",
          "text": [
            "[('남동생', 0.9161667823791504), ('동생', 0.8544796109199524), ('남편', 0.8233013153076172), ('남친', 0.8008506894111633), ('난생', 0.7529798746109009), ('중학생', 0.7363580465316772), ('친구', 0.7217780947685242), ('학생', 0.7159159779548645), ('남아', 0.715417206287384), ('조카', 0.707827627658844)]\n"
          ]
        }
      ]
    },
    {
      "cell_type": "code",
      "source": [
        "print(transform(model.get_nearest_neighbors(word_to_jamo('고품질'), k=10)))"
      ],
      "metadata": {
        "colab": {
          "base_uri": "https://localhost:8080/"
        },
        "id": "UlWmPX6Kdvbt",
        "outputId": "1cb1361a-54ee-46c2-a796-35c50042ee58"
      },
      "execution_count": 28,
      "outputs": [
        {
          "output_type": "stream",
          "name": "stdout",
          "text": [
            "[('품질', 0.8579558730125427), ('음질', 0.8266991376876831), ('땜질', 0.7590718269348145), ('찜질', 0.7277037501335144), ('퀄리티', 0.7079712152481079), ('사포질', 0.7016077637672424), ('군것질', 0.6904250383377075), ('성질', 0.6781318187713623), ('다림질', 0.659640371799469), ('퀄러티', 0.6441708207130432)]\n"
          ]
        }
      ]
    },
    {
      "cell_type": "code",
      "source": [
        "print(transform(model.get_nearest_neighbors(word_to_jamo('고품쥘'), k=10)))"
      ],
      "metadata": {
        "colab": {
          "base_uri": "https://localhost:8080/"
        },
        "id": "LgkEvLlxdw2l",
        "outputId": "c316def0-c5ad-4b18-d0ee-ee4289e99162"
      },
      "execution_count": 29,
      "outputs": [
        {
          "output_type": "stream",
          "name": "stdout",
          "text": [
            "[('고품질', 0.8423395156860352), ('재고품', 0.7486403584480286), ('고퀄', 0.7318102717399597), ('반제품', 0.7153773307800293), ('중고품', 0.7060855031013489), ('소모품', 0.6940242052078247), ('소지품', 0.6910591125488281), ('재품', 0.6895123720169067), ('화학제품', 0.6871013641357422), ('곪', 0.6835593581199646)]\n"
          ]
        }
      ]
    }
  ]
}